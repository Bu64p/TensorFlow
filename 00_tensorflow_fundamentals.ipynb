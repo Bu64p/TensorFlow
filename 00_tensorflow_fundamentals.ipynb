{
  "cells": [
    {
      "cell_type": "markdown",
      "metadata": {
        "id": "view-in-github",
        "colab_type": "text"
      },
      "source": [
        "<a href=\"https://colab.research.google.com/github/Bu64p/TensorFlow/blob/main/00_tensorflow_fundamentals.ipynb\" target=\"_parent\"><img src=\"https://colab.research.google.com/assets/colab-badge.svg\" alt=\"Open In Colab\"/></a>"
      ]
    },
    {
      "cell_type": "markdown",
      "metadata": {
        "id": "vu7VbxS_Bbsg"
      },
      "source": [
        "# Fumdamental of tensors\n",
        "\n",
        "Fisrt Notebook\n",
        "\n",
        "*By Engineer *Parsa Ghafoori Sadatieh**\n",
        "\n",
        "![Photo-1(1)e.jpeg](data:image/jpeg;base64,/9j/4AAQSkZJRgABAQEAYABgAAD/2wBDAAMCAgMCAgMDAwMEAwMEBQgFBQQEBQoHBwYIDAoMDAsKCwsNDhIQDQ4RDgsLEBYQERMUFRUVDA8XGBYUGBIUFRT/2wBDAQMEBAUEBQkFBQkUDQsNFBQUFBQUFBQUFBQUFBQUFBQUFBQUFBQUFBQUFBQUFBQUFBQUFBQUFBQUFBQUFBQUFBT/wAARCAClAK0DASIAAhEBAxEB/8QAHwAAAQUBAQEBAQEAAAAAAAAAAAECAwQFBgcICQoL/8QAtRAAAgEDAwIEAwUFBAQAAAF9AQIDAAQRBRIhMUEGE1FhByJxFDKBkaEII0KxwRVS0fAkM2JyggkKFhcYGRolJicoKSo0NTY3ODk6Q0RFRkdISUpTVFVWV1hZWmNkZWZnaGlqc3R1dnd4eXqDhIWGh4iJipKTlJWWl5iZmqKjpKWmp6ipqrKztLW2t7i5usLDxMXGx8jJytLT1NXW19jZ2uHi4+Tl5ufo6erx8vP09fb3+Pn6/8QAHwEAAwEBAQEBAQEBAQAAAAAAAAECAwQFBgcICQoL/8QAtREAAgECBAQDBAcFBAQAAQJ3AAECAxEEBSExBhJBUQdhcRMiMoEIFEKRobHBCSMzUvAVYnLRChYkNOEl8RcYGRomJygpKjU2Nzg5OkNERUZHSElKU1RVVldYWVpjZGVmZ2hpanN0dXZ3eHl6goOEhYaHiImKkpOUlZaXmJmaoqOkpaanqKmqsrO0tba3uLm6wsPExcbHyMnK0tPU1dbX2Nna4uPk5ebn6Onq8vP09fb3+Pn6/9oADAMBAAIRAxEAPwD5Ggjm3CcsscrKOF+lXNLs2uNesUl+YLMP51DtjKh3l3RrywXuO1auit/xNNP28mSYNn1561pXjy05MqKvJSPun4eWW7QThefsx/lXyXq1wtv8QNRiYnEdwT8w469q+1fhhbiTRdrdPsrYP/Aa+IPG0MjfESWPO6NrzB/76r5ekvckzatWcaqjFanpGr/FaHRdMjjntzny/kU8buK+ffFHiy78XXUzS/6sy/JGh5UjtXtH7VmhpoVj4cljULE9uqvt4+YgdTXzLoW6PWblWZmAKny1PH+9j8R+Vezg8JHk54o87FV25ctQ9I0CzR7jz2j2yRLkKTkhsV9GeDPCa69oVt9tXzHVR1HY187+DdXS31osQsgIIHHBx619E/DH4gRG3azuAFuM/Kg7D1rwcz9rzWS0Mo1IXSQ/XtKj8LXFnpboJbC8YxlW/hJ6V83fFDS4/Bus3lo67raSXK89sGvo3XfElv4m8Sx2Wcx2zby3pivnf436pa6z4mupGZSiMNhPPXj/ANlqcpjPnakc+JnHa50PwW1JrjQyhXYsbErXqlrekQ4Y88YFeEfDjxFF4b0+WKZgUdvlOK7+Hx5p/mKvnZk6YrsxWCnJ8yR1UFQnZc+p6BcXgmjEaBQcY3VVVfLh65I61gW/iS0uW4nTJ6gMKV9TDFvLmBz0ANeX9Uk/dZ6/souOsrnRamyWfh+e4b5TGhJNfMev+Jhrd5M9wCWV2SOPOc+lez+MNc8vwLrW+XY/lbQfWvB/D+nrealDGW3OvzFQfmb8K9vCYX6vTc5Hk4mMX7q2Llj4du7tcw2Yli24RsfMpxk/zrD1TRbrQVeYwzC+jbzI1Ztv4V9HeBfC9xqGj3MEsflpMcx7RgpgDmjWfh0mrabeaXelBfpGZLaduGKgEkZ/CiOafvOS2h49Skt0jhvhr4zkvk0wTuq3NvIomRWyCDXrPxS+zXmueFmuGxp/zFjnng18veHYH0v4lGOMtFGYTFJH0BYd69y17Wl1yw8PWt4dhtXZC+eW6YFddSk07o7ouKgkd1tk1DVI7lMW2lIyR2yr/HjPNerW+WgTcMccV4xoNxdXUK3GsH7PawyLHZRdCR6161HciK3iyxIK5Ga8atHlZ10HzanxLCsZsQ8Yy65Bj6EVoeG/m1TTBghRIF2jtz1rKWZ3hkjRT5h6Z4IFa+gMY/EGnQqC8auvzEYPWvqMQ70mrnXFShofol8MIduhxoDkfZm59OK+L/E1sW+J7nP7t7zI/wBn5q+1PhlGP7GCq2d1uf5V8d+JoA3xEvBkq0VyXUfRq+aop8jSOirTbkpGh+27K1vp3hi0GXRoEZ8fTjNfKlrCy3jYX5gv7zJwME5Az+Br3/8AaN8eW/j68021K+S1nGIw+7gkcYrw3S9LT7LPJcF1l3Mrbu4ycH9f0r6vB+7RszyKmHcqjk3c19L1WK3nnlXCiRAxKnoB6e9d94V8cyaPLFdRqXLp8rY5X2ry6PSpLPb5I8xN2c9Qc+tdho8KxKImDuc8bR7Uq1KnOPvbB9WTeh2l346mZJjaR/Z5G/1rL1bPeuLn0FNaYyvLkZyQevX/ABNdDZ+G5tS3LtZFHGe5rpdF+HxulIAYbR1zXnU406d+R2Oz+zVNanDzeH7eKGFZJN/K4x65qtJoQkvGMcyhs9Ca9Hm+Gk8inYWO07ga4rVvCmoaL506tJJnrnqK6IVrvl5jklgPq75oxOb1Cyu7K0luEmJIBwVPNcr4f8Ravd/2iI5pd0EYZW3fc55+p/xror+7u4Y5okXzCuA4bsT/ADrF8LrFov2x2UvJI3PPyk5zz+v5V3v2drWuzxaylTm1YpX3xC1q7X+zpGNzCcNIjHGwep9a2dJ1AQ67a3gk8oyAgq3AB+tczrHlf25izAMFy+wPn7p/wqOG5gMktq87CKN23yZ+YYPH51t7JVKbjY6JTfIktT7A+FvjGOHQ5WuiHI+TcemevWr/AIg1SLxD4k0m6gYeTCHEzdlXFfMfg/4mf2fop0va0iFtxkPUA1uX3xbTTdJm06x5NwRGbktnr6f5718fPKavt7KOhrUbdNQOZ8Saslr8UDJu/crcOBKDw3YV65fWg+w6NfyLmzjvuW6huBxXz/Na/wBoXAV98rtJkT9hjmvo/wAGlNV/Z6t76bMradfl5MfxfMa9vEU3TgkzGCnFctjpby8TWJk1W/P2O2hZYoLY8Z+YYYD6V6x4gthb6Vo08JLieFice2OP1rynVreHX7HT9cvf9Dtm8tbW3Xo5BHJzXucdjFfeHNJ3bgUVx/6DXj6Odj08PCXL72h8JC3DGKR96SMcbj1xWxovmR+JbBGAP71QNoz3qhNcCKNEMTPggk9wDWloEgbxJpxUMN0oAXHHWvYxHwyPblKNlc/RD4XgrpaEcHyD/wCg18ia8VPxIvRICWediGPTrX2B8MV/4lCDHAt2z7cV8f65+88eXw64nbDfjXgYd2vcdapFKx4742UXGvXKsu+NZ3KKfr6VznnH7RsGbh1PzKecD0NdJ4pVV8SXjeYRIrkhgMg1h6dIsNw0gxulkxI2OPxr6inOmqd7M8HlqSndPQvaLpclxHIi7t0/AQHO3B5xXrfgnwNJcMiG3eR2wE+XJzU3wR+GNx4u1SWeGL92rKB/WvuL4efCnTvCsEc8qJLcY/iHSvl8wzSNN8sT7fL8qdSCnV0R84aL8F9Xul8wWUo3f7Ney+DPgB5lqn2hAjN1yOa9tSS3h4CAewFXtNuV8zj7tfNLH1JvQ+g+p06UfdicPZfs+aXDaeUYwSQfmxzmuQ8Q/svWE0MigZVh3HNfSVj+8Zc9DTtQtQy8n26V0U6lVe+meVJwlLlnE/Ln46fs/wB54JtWn+ysIFfzFKrwxxjrXzDrGhzRrLOd0MUCkmPuxIzn9TX7LfH3w3ba18P5Y5Ig2wEo2OnFfl78R/DR06S/jUYVjnd656ivsMsxDqPlmfJZphY816asmfOMlxI8cjhGSJefpk9R71ftNDudT0GCWNRLcRuwl2YBYZ+XI78VfurFGjkHJCyKVWMZbA9RRb3T6fqE7WihcxhSucb2I5x7ivq1J6I+ZUFBPU51pnS4RyyxylxHIjcKNo/StvSdJvtWjjhEbCJ3wGxjv1BqtJp9tauxbmQyAsg+Y7cZ3H88fhXSeHfEzWc0xEaiDH7seoAJJP4VpU0Wm41OLSk3qdcvhVdP09UdTK+3BI617l+zbpEOufCbVtJuImjhaWTG4fxZODXhNp8T7SSFA0BkcYO2MZO315r2j4M/GDw3ptudL8zZPdS5SPGOtfO472jhex2UpUpu0nY6PSPDF/ql1a6fqyFrbTWxAccEZ4/GvdvD9ur6akZBIjJA9hxWMyx7Q+AQ+DkD8a6nwjcotrOrDowr52nUvPU9OUIxh7rPzyUlbGEv+9nmAQ+xrU8N/wDIyaTsZ22S7Tn61mXy+ZaRrBiJkIfnsK0fDBlfxfpPRU8xeFPvX0NeP7t2KrS5Wlc/Rz4aqV0nAOD9mbP5V8e6xlvH18EG9PtDZH419hfDeM/2TIOjC1Y5/Cvji+lLeN7/AO8p8xzkd+a8PD6G9WPNZnkvigJJr94gBVVcjjp171WtdPgkd1jOMjIU/wB72qbxEwm1+5jf92kbMVY988/zqbw5ma+gjuXVh0Cj+de9ONRUG4kYWl7/ALx9y/sk6DBY+B1uHj/0gnljXtupa55LpGg5PSvDf2W9e8/QptMYfKj5U17eukJJMXkOADnn0r8txXN7V3P1rBRh7KLkSQ3c9wM45ra02YrJHvOO+BVCO6sIfkEsfp1FSwalaxyDEiEA9c0oX6F1WpJpI9J0FS4BPINaV1AFXJ4Arx7xJ8c9O8C6bLNJ+9kQcKK+c9d/bA8Y+MtSksdLT7NZ7sArx+dfSYXCznDmasj4LFVPZ1rH2H4ys7fxBoFzYiQBnjIRge9fnB+0J4Pu/B19NHfwMA+drY6+h/OvcdD+IHiHQZFnuNQknD8yxkEis39qjxdoPjz4VWd9Fcwf2tDII3QEbhngZrtwspUqiXQxxLjUoWe5+duqPFpepu0yOoZtqOpwHH0rHmkit53gmTzDGxkUqfU8DNex/FL4M694J8N2GvX0Q+y6nFuRW5AyP0rwxrNTfbxEyBFIRmfA96+6w03OPMpHxM8PKN2y3eeZNcXKGNhGkQw3foCRVGadTBaXKjbH8yvGx45GBmpbW4aZgCzymNiF3Hjbjp+eapT6es0yKSWZ0IKnnaxOF4rujFSvJnNToqPupE0Mjvh4lIaIBRk8v6j2rV0Nm0/xRoc0jFJPtiKqqeduazrFW86EIGcwnEx9O2cVLMlxFrNi/wAu1L5WLE8nkdPQVyYmpzUpQiTGiuZcx+mdnIsmn2jYzuiQj8q3dCkWFZhn+7/WuZ0GZptB0uQD5mgXnP8As1qWFwI9+Tycd/rX501KM2fRxj7iR8D+cy5DADBAfvure8G2kj+LNLlLKd82Bj61z72/kFXJ3eevyqen1+tdH4Dh2+ONKiT5gJVO1u1fY4mnGNN2ZlzRnK7R+jXgNRHpLbeMWzZ/KvjbUG3ePNSXhYvNbDe2a+yPA6ldGmIH/Ls+fbivjKTDeML9c5xK7frXz+Hjpc6KsnzWPI/EwSTWJg4LIrMw9j6msePU3sWa4QHBIVW7j14q14g1CT+2LzZHuk83hR0xmpvAvhmPxr44XQ57gW0EytILn+6wA+XHTqP1r6Vq1Bjoc3Mj7j/ZzWz8H/D+LxDeyfuPL3sO7HFcr8Qv2idd1S6lbSI3gtHYquOOK4mz8Uahptvpng1g39kxqyG5HWYqRx6f/rqvqy3F5NNb2dv5FtGMCQ9TXxHsKKqNz1Pr44qrUp8sLqxm2vxe8TLdbbm6kU54IavQ/Bvx8MjiC7kkLKeeCT9a8Gk8M6jGk73M5kkV+Mema7r4deHpofG3hyI23nSarGYgrA4UA8t9a7K8cNGCcbHLTliJytdnpWseIJfibY309iJBFay7XVhhioGcmvH5vE2qaD4ggSwt2Fq77WZV6HPWvr7WPgzdfCXxJb3UG250DX4wjFhjypcdD9c15t4o+DOr6fqU15bWHnWZbeCo6UqeKUY8qM5YWVbW4ul2+t6XqEd1cTLNa7Vbb135rPj+F48WXXjq/mtTF5IhmigboOQSQPeus+EumS+LPFCR6s5tNN0wgSGQ4D+xr2PQ9PgmvvGuoRweXYXKGGAHoyqmAf0zXFWrO/KkdEMHFu8tT50/bM0VbX4U+GpjcCazvAnlhT/qyF6V8D65YorW9xKEAjcbvVuOVx9a+9v2nrNrX9nHw/PeuZHWWSSJW4GBnbivz918XTWlsm4RTG4Py9flJyCffmvrsrhJwTufN5jUhRnZIxbq52zv5SOiyP8AKAMqq5/Q8mrsVuFmWUbW2lFG09OeDn61Pf2ao0kJYos0RYM3VWB7Y9f60Wtsbe3Gw/aZpAsTQnjauQd3HfOK+njHV6nzM6qnLmBbWO0hzG2bub77E4GT0qvqTyWdxaxzldyyoZCeOabfQ+bKoG4jIykbcjHr+NVPE0bTQu7tvlE6lfm4UehrnqUeam0i1GNa1nax+lHgm5F54P0aU/dNsmMfStlVXc3HFch8H7sTfDXQWPO63X8DiuraNmJI6V+eYiPLNpnsU4qyTex8OpMv2jy1TdEqkJuGdp9a6T4dwE+NtKnX5i8gHPWufuNiJtRuWXIxXTfC+Rbj4h6UjHEcbbgQOvNfUYpJ0m0ct5Smktj9E/BJWPw/f7uG+ySEflXxDbuU8W3jM2SZXBwfc19weFT5fhrVccj7G5zjoMV8N2BRfE1+0jAozOd2PrXh4XRI7K2+p4/ry/8AE8v2UAMZDjnnbms6xvH0G+tbu23LLFIJXkzxtLHP41c8QTM08u8YJlYf7TYPFZ17C17asBJ5KkZkUdumB/n1r6lRVSk4s8xVmp3vofYvgVbTxZ4SeeCNZbq1cXMXGSQR8wrvLvwtaap4f+0W4SPzFx2BHrmvCv2W/FxWOWzycxjbyO2K+jLzTNOubdp5JGiRhuKqflFfnOMj7Oq4tn6xlMYVaKkzyW88PaXpEbyXE6u+cbSetdb8K44te+KWjXCQ7ItMgKRKBwSxyTXn3jpbe3uyYeVByMmu++BeuWXhLR5/EGpyL9pkcxxxnqAO9ZV4OUEjrp8karPuxrCz8ZeEfsF9Gs8K8Ed0YdGHuDzXzF421HXPB99Lp93eXMVqjHypT90r2p3hT9p210u4vkeTdDJkj24q3ofxi0z49w3Oly6e0Udu+DcSKBn6V1xhaC5keXFRo1JJPRnI+A7S21Tx/b3gaR7QfNOJD8rn6V754kvrV9HnhtgqRshRUXAxwa+dvHWk3Xw91JZ9LnVrRj9wHmtLRvG819b2k1w7R/NsdG9aJU1e5kqqSkupW/aP0seMv2P9Hv0CiTSZpbKbjoecfyr80ZoVmmkYnMm4uFY8ZxxxX3r8TNcu9U8G+NfCFtO6RW8n9oxwr/GvVjXw7eqtrqQmRVeQnBXp2z/KvtcDpR5VufnWMrLnk5HPt5t0qXUsLTM2IxtPIOOSB+FM+03ETK8W1EBYiQcHOMYP44q7I0caIYGYmQs0i9NvPQe/+NY95JFFbSvJMo3OGWFcnoRjNe1CSglc8KnWhUlsS2caNjfujaQkSc/K3NVtSWBtK2Sx7JEyDt/iOeD70kk0x8qL5Yldt+7OMZ7VauLYSWskagv5CMeere+O9dEnDkfLuaWalz09j7p/Zy1D+0fhLojnnZGUyevFekRsyqcHAz3rxf8AZP1RNU+EtoVf/Vs6Yx0IIr2ORixAHQV+cYqF6jbPdw7dtT4nkWS6aM26ZKLypNdB8Gwk3xFsQvKF8FmzkEHpivZf2evB/g3xF4V1G88VTRRXEefKDkAmuA+H9nY2/wAdvsunEPZeadjL0619PiJKdGXKjho1LtN7n3n4fYx+EdafHIsXH4V8IW7hdXvc8/M54+pr7106Hy/AniFs8paMBXwBZyu2pak4ALjzCW9OtePhqblFHoV6l5aHlmu3Am1iZwpMe7qayrr99fQWzFlZkMo29OD0NWxcPqWoSrHH5quzbQ38PPU1V1BZFRGWT5m544AGcY/TpX09KNtDxnU5ZWsepfAHxFb6PeXFrcfu9QlnBjXPVTX0lqviJ7e1dN3Mi8LXwrpesXFjr1hqDDaYZQuV43D6V9PT+I/7U0e0vVk+8AGXoRx6V8tmWEjGpz7n6BlWMcafKyh4gvpbnVIvtTeWOy56/jWn4k1aGHwzBbQFmL8sq1hfEaFNStrOax4wmW29c0eA9F1HX7UxynZEnRmHIrjUYxtJnpLESnNxSM3w7puq6ncMIXManru9K9l+H7XHhdV8qby1zl9vXNZmn/D2yik33OrCF1I+UHBrv/BOi+H1kCQyC6cHmWU1c3Fq9tCZUXLyOQ8XX/iPxFqAuY1d9O3jDMOBg9q6jVL63gXTrWMDzDiRmz3Ar0/W7G2fSAqxrHbxrkHGBmvnbx3rw0m6+0hhhc7ayjB1ZWSOKs1h2+dnG/ET4mHwf8Z7PULgLJpd6gsr1O3ltwfyzXlPxg8Cp4N8SzqshOmA/aY5P74YZXHtgisH4qeIF8Q6hPdXOZjB88aqM4Jr0LUJ3+KnwB0S/I3arpDGynOeVReEJ/4DivqaNJ0UrHweKpRnJyUzwHzZGhjkaMDIZzzgHB/+uKq+Z9qkjRoRKjNgxYxjJHfv1rVu7qS7Bj2q3z+WDt2nGF7+lVpBJpu5d5VASBkcfdJAB+or3YRb3PN9nGKvF6ma8Sx3nnphreOX/VtyV59PSrqxqkskjyFg8fy85GO/0qs8kfmLKYfMLEBivVSaS9kNxZv9lcPHKhPzHG0f3fwqpR0Zu4TdNWdj6z/Y7u1/4QG8tl5ENy2OfWveZJRuJBxXzD+w9ff8U3rNqOqTZr6YZd3XgivgMZG02evh1KOj1PjK+vrz7DJbJPIsjj5fJbAFdf8As4wvN8RrJJG+dV3FxyTXB3Fx9js5GQ/aLhjhI24A+uK9G/ZhLS/EVWkVUUDK+uK+mxTl7JpHl0Yw51KT1P0EZvs/w98RMWwv2Q8Cvz+053mj1c7htw546454r741y4EPwr8SyY+f7NgV+fVjMbe21I43ZV+fXrXjYZS5UenUqK90jy1ZPLzMQQm5lDL1AzxTLolruC3dPtEUqhi2cBSCR17cAVZvJQscka/6xWxtwMHvxVKW6TzmhEeEUdWPKkgV9RT+HU8pVqVnfcqm1RiX42xOSnUhPoe9ekaD4n8nTYon3TRMP9Z3rP8Ag14Zj8cfELT9PuB/oCIS+3qx969b8YfCmw8Ma5NBGGXT5sgN3Q+oryMXKhzWZ7WW0q3K59DB0/UkuPLhWYFe4Neh+CdSjjjkhjOXz2rwXxHa6h4QvFKnzLTJCyDrjtmtr4f/ABHhs9Ua0mkzNncpByCMd68ivhnKN6Z9LhcX7Odp6HqnibRtW1K+ZrVGKN6HGK734WeAL8SRSXFx5cakHazVxln8WLVPlCqDjJOf0qSP43Np8LSK6rHkjOa4fZ1n7qR21sTTj77ke8/GLxFb+G/BoiSUGRlyNp618YeJ/F83iI/Y0JM+1mJTkhfer/xQ+Nc+vQfZ45d6x9T3U0fBPwkkkd1rGoqTBcKUBb0Ne3h6PsVzVD4/G4qGMfLTloeKy3H2hJPOOyKMHcAMl/SvS/2a54rq88TeEp5C0WrWXm2yk8CUDPHvivRtY+COh65b3H2Rmt2boABzXCaT8N9b+Gnxf8K3vlGawku0j86MHhTxg17ClGok4s+TnhpRk+x5TrOm3FrqGo2hZYvLn+VT1DAc1jva3ElwZVPmW7KQY36bgOGr0n9ozS4tN+IWrrHuiD3RMbJwFOeVP4V5vdT3Fk2GmxHt+RYx6jpXpe0aSSKlS9mvcMl4m8yWF5S8sa7vk6f71PsYLd9Hm2hY/IGzzG+6SevHrT2IhAl25nZTGB2bvg1FtjiSSIbstJhlYfJk9cfSuiMeZXK9pJLU90/Yvujb3/iK0LfLuV129K+ry+7nPNfG37Kd3HafEPUYI3OJIeVPse1fX7Sjivhcwp/vHY9fDVm29D4QvLtp45p9x+0biQB047V7L+ygss3jIyXIVX2ghVPbtXhWrPIqsseI5UHyNnhj3Ne4/sgxhfErSb/MIVRuPSvocdFRpOxw0knUTZ91eMbow/CbxFtOG8jHP1r4Kjmxp15sXHynLGvuD4jXQHwi8RfNjdGBn8a+FbVv+Jbf+Y3ylWCgdTweK8rBxUoJs7qlTlkebXm+S5mkiXLyMcP93Htmq8VrcZeSRQGJCn/69XBK015DBsK4JAGM7ia6/RPhpqeoKoYeTC0mdznrwK+i9rTpwbZ506NTEv3EdD+yvam28dahc5ICqBnqB1r6c8TaXF4ks5IzhztPzCvINN8PR/DLwm15alXuWcCQgcnNeg+B/Ei39vGJTgsMn8a+OxHvz50fVYLnoQUZni/iuxOkSfYtViNzZM+M4yQK8+8UeAZNKni1LSWMlnIvyuvJT2PpX2XqXw30/wAVWpJdd5ztPvXhGv8Ag/VPhhqlws8bXWlTtzxkLnuK6qD5dTWtVTueBWOq6xC90oSeQAEgOeW+lWhJrN5FDalmEcn3gRyCOtek3fg8xMdQsF+0W0iNll525qXwv4VudWmjsoBzIQdzD7n413yxVOKvynM8PKtGzZh/D34U3Guaybu7d5IW/wBYj9Sa+nZPCcdr4JuLazhKm3jEgCjqB2+tXPB/gldEjj3R5YjlsV6DpektbzJlN0Mn3lI4I9K+ZrYpyqqV9D0aOW0qNNpbnzh4d8ST295CWbcmcOueRXtHgOOPXvG2jidI7u2hcTyIwyFC9/avKfiR8NNQ8GfEWO902GS90/U5MJDHzsZjivZtN02H4YaK9layC61+9QfamBz5OR938K97D1FO1j5jEQVJu54H+1d8LpNS1DVdf0SJ7u3mnkmkjUZZGJx+WAK+UlaSCSGMyFg0TIEK/dYD+dfU3xc+O7+FbiPQ7CI3E8z+VcDH8R/+sRXkmofCe61KT+0Y5lPnFn8onbtJHXNfSRaUUpniyqO7seRtGpuI3eRmEa7e+WfHakWMnZ5zOp52x4wfx967u9+Fuq2kMtyh8zaMJtGTXG3WkXFhqFytwxE/+sRnyPw+tbQlGWiZqk5Qudl+z3fix+NEcYVgs1sVGenFfaUknQkdRXwp8IZpNM+JWhXEk2HkZo8HjOa+6jIPLQt3FfKY6PJVZ6WHkorQ/Pi61CSa8MqL5UUQwF67hnk/lX0b+yCqtqk8sa4Rn+6T0xXzVcJ8gZhsduCucrx6jtX01+x9Gvk30zIsSq/G3t7V6+YK1GzOCkpzku59X/Fu8WP4Q6xtGS20Yr4/0DwfqHibTGS1jaNi/wB4jrX1nrxHiLQmgfmwXl/wrjdCvLJblbGBFhjxgHGAK8ClKSglE9WVGzvI4DwX8GNO0WRZL5vtF2PmPy8A11N1pdrZyYVSUzkKK626vY9NkLRxebN91dozk1o+MtLsrbwlYXskSw6jONzqOoro9lOr8Z1QrRpR905/V9F0q88DXcJbfdyKDEn90ivKPCF1ewtcRhczWxzJ7KK6WLVpFvfJAJRvWseaKayvJJbVcCQfvcdxmr+q6WMqmK1TbPSvC/jZJI1RWyO4z3Nd39i0zxNYtb6jGs0Lpgk9RnpXzjPI+g6tazQZ+xTnnH8Jrc+InxePw/0K3dJVa7uflXnoMdailh6nPyozq4mMY8xX/wCEPvfh742kis1a+0u6fabduVwTjivozwH8EtH0y1XUoIyWm+Yq38JPavhnw5+0d4ig8RxzXWbmAtlN4zX1v4C/aUt7jTV3FQ7DmPPQ1li8FX+zsXh8ygviZ7LdeFrO3hVQn41Xm+zWphXYMLxWRY+OF1jS47tW/dsuc1jal4hFxIHV+BXgTws4vVH0kMb7RaHcNpOnXCz6pcRq8OmRm42t9OP1xXg2v6zJf+IFuoeJJmLFvevY9P1T7V8OteeY/vLpGii/2sCvDvD00V4kSuNsyOVJPXg17uXxcUfN5i3J3Z5l8TvAWnaz49i1RIxtWNXkA/ikxjP8qoTQtayJAchCc49q7/ULdG8YzRythGOOaztb8PlboSIvmBHBH0r6KUnLSR8tFuMrlZdJsbqwTzHMPdQe/wBaxPEHw10vVrS5a4tgjsn7thyy57g12Kw2+pW0sT7UmVcKtTaZpeo/2Fcx3Cjzl6k9dvapjBwacTv9onTdj5HvPBV94F+IWgyt++tWuBtlPO3619kRXHmWsDbc/L1FeTeI9F/tyaMT4ZbeVWRvTBr0+xKixgAOQFxXk5hGcpXNMJPmV2fn9cXW+zdWTMp+dpc8nPavp39luNh4ZEgcjccY9KKK7cdJuCNcP8SPoTXdSn0zQ4rOJvkuCN5qBtBt/saKcncmc9DRRXHh0uU7MU3zM5qx1mazuxs58iQ7dxznFW/FHia7166iM5x8vQdKKK7I/EcNNvlZyOsXTQ/Zto5EmM/Wui8J2ceo315azDKBN4oorSW5VP3nqUNQ02Ka8urIj93jKn0I7189fEeKTXtYaK7mZ1tFKLx15oorow/xHFjNNif4UeH7PVNYnsbmPzYJkIwf4T2IqO+up/CfiZtOtpS8LPjLdRRRW0t7Hny2R9WfBXxFPrng2aymUL5KB1kB55HSrd1qlwJo7YPhWbBNFFfO4hI+lwcpct7nqU8jWvhXRbVDxjeW7kmvD23WPj66hRiYhKSF7DJoorLC6S0NMX70NSDxhb48XCUMRmNTgVaF2wt3J+b5ccmiivpWtEz52tpaxgLCF1SCdSQxfBHarPiTXry0upFjlIDjafp6UUVdPc4cTKUY6M5qz/esQ3ILZro7O8dY9g4VeBRRXDikPDVJJbn/2Q==)\n",
        "\n",
        "Ferdowsi universisty, Mashhad, Iran\n",
        "\n",
        "*10/20/2024*\n",
        "\n",
        "*7/29/1403*\n",
        "\n",
        "\n",
        "\n"
      ]
    },
    {
      "cell_type": "code",
      "execution_count": null,
      "metadata": {
        "colab": {
          "base_uri": "https://localhost:8080/"
        },
        "id": "tm0a-6fMDqhV",
        "outputId": "1966d498-c295-4545-efb2-4ab842f6d553"
      },
      "outputs": [
        {
          "output_type": "stream",
          "name": "stdout",
          "text": [
            "TensorFlow version:  2.17.0\n",
            "Numpy version:  1.26.4\n",
            "TensorFlow Probability version:  0.24.0\n"
          ]
        }
      ],
      "source": [
        "import tensorflow as tf\n",
        "import numpy as np\n",
        "import tensorflow_probability as tfp\n",
        "print(\"TensorFlow version: \",tf.__version__)\n",
        "print(\"Numpy version: \",np.__version__)\n",
        "print(\"TensorFlow Probability version: \",tfp.__version__)"
      ]
    },
    {
      "cell_type": "markdown",
      "metadata": {
        "id": "OKpo1BFDFqTs"
      },
      "source": [
        "### Create tensor with `tf.constant()`:\n",
        "\n",
        "\n",
        "\n",
        "\n",
        "\n",
        "\n",
        "\n",
        "\n",
        "---\n",
        "\n"
      ]
    },
    {
      "cell_type": "code",
      "execution_count": null,
      "metadata": {
        "colab": {
          "base_uri": "https://localhost:8080/"
        },
        "id": "XfltBPX1DzAV",
        "outputId": "da8fe80d-b02c-48e8-946b-b41f2dcbb998"
      },
      "outputs": [
        {
          "output_type": "execute_result",
          "data": {
            "text/plain": [
              "<tf.Tensor: shape=(), dtype=int32, numpy=7>"
            ]
          },
          "metadata": {},
          "execution_count": 2
        }
      ],
      "source": [
        "scaler = tf.constant(7)\n",
        "scaler"
      ]
    },
    {
      "cell_type": "code",
      "execution_count": null,
      "metadata": {
        "colab": {
          "base_uri": "https://localhost:8080/"
        },
        "id": "ZQXN2Je-D7Z1",
        "outputId": "b7162329-5bee-41c0-d31e-f4a8b64fa319"
      },
      "outputs": [
        {
          "output_type": "execute_result",
          "data": {
            "text/plain": [
              "0"
            ]
          },
          "metadata": {},
          "execution_count": 3
        }
      ],
      "source": [
        "scaler.ndim"
      ]
    },
    {
      "cell_type": "code",
      "execution_count": null,
      "metadata": {
        "colab": {
          "base_uri": "https://localhost:8080/"
        },
        "id": "6_aRqVPjD9uV",
        "outputId": "fcdcd813-9819-40a1-af3d-22a126a07b2a"
      },
      "outputs": [
        {
          "output_type": "execute_result",
          "data": {
            "text/plain": [
              "<tf.Tensor: shape=(2,), dtype=int32, numpy=array([10, 14], dtype=int32)>"
            ]
          },
          "metadata": {},
          "execution_count": 4
        }
      ],
      "source": [
        "vector = tf.constant([10,14])\n",
        "vector"
      ]
    },
    {
      "cell_type": "code",
      "execution_count": null,
      "metadata": {
        "colab": {
          "base_uri": "https://localhost:8080/"
        },
        "id": "tQkDoGEdEAPd",
        "outputId": "e1fd9381-4a6b-4ea3-e992-8313aca6a65a"
      },
      "outputs": [
        {
          "output_type": "execute_result",
          "data": {
            "text/plain": [
              "<tf.Tensor: shape=(2, 2), dtype=int32, numpy=\n",
              "array([[10,  7],\n",
              "       [ 7, 10]], dtype=int32)>"
            ]
          },
          "metadata": {},
          "execution_count": 5
        }
      ],
      "source": [
        "matrix1 = tf.constant([[10,7],[7,10]])\n",
        "matrix1"
      ]
    },
    {
      "cell_type": "code",
      "execution_count": null,
      "metadata": {
        "colab": {
          "base_uri": "https://localhost:8080/"
        },
        "id": "o5fmrcbeEHKm",
        "outputId": "cd3a34a0-3009-40aa-8740-d9e5d3abfb48"
      },
      "outputs": [
        {
          "output_type": "execute_result",
          "data": {
            "text/plain": [
              "2"
            ]
          },
          "metadata": {},
          "execution_count": 6
        }
      ],
      "source": [
        "matrix1.ndim"
      ]
    },
    {
      "cell_type": "code",
      "execution_count": null,
      "metadata": {
        "colab": {
          "base_uri": "https://localhost:8080/"
        },
        "id": "vjI6EO_oEJJ0",
        "outputId": "3717697a-9ac5-408e-b6c9-9a3275a0d05f"
      },
      "outputs": [
        {
          "output_type": "execute_result",
          "data": {
            "text/plain": [
              "<tf.Tensor: shape=(2, 3), dtype=int32, numpy=\n",
              "array([[5, 9, 3],\n",
              "       [9, 8, 7]], dtype=int32)>"
            ]
          },
          "metadata": {},
          "execution_count": 7
        }
      ],
      "source": [
        "matrix2 = tf.constant([[5,9,3],[9,8,7]])\n",
        "matrix2"
      ]
    },
    {
      "cell_type": "code",
      "execution_count": null,
      "metadata": {
        "colab": {
          "base_uri": "https://localhost:8080/"
        },
        "id": "51VRJEKbEYOx",
        "outputId": "0ca29638-2661-454d-b260-c67d0c8ebbe5"
      },
      "outputs": [
        {
          "output_type": "execute_result",
          "data": {
            "text/plain": [
              "2"
            ]
          },
          "metadata": {},
          "execution_count": 8
        }
      ],
      "source": [
        "matrix2.ndim"
      ]
    },
    {
      "cell_type": "code",
      "execution_count": null,
      "metadata": {
        "colab": {
          "base_uri": "https://localhost:8080/"
        },
        "id": "OdJqKRqwEaDB",
        "outputId": "f34b044c-53e7-4f13-f45a-9b60c7d00270"
      },
      "outputs": [
        {
          "output_type": "execute_result",
          "data": {
            "text/plain": [
              "<tf.Tensor: shape=(3, 2, 4), dtype=int32, numpy=\n",
              "array([[[ 9,  8,  5,  1],\n",
              "        [12,  3, 65,  9]],\n",
              "\n",
              "       [[45,  1, 25,  1],\n",
              "        [ 0,  0, 55,  6]],\n",
              "\n",
              "       [[12, 33,  6,  1],\n",
              "        [78, 99, 65,  1]]], dtype=int32)>"
            ]
          },
          "metadata": {},
          "execution_count": 9
        }
      ],
      "source": [
        "tensor = tf.constant([[[9,8,5,1],[12,3,65,9]],[[45,1,25,1],[0,0,55,6]],[[12,33,6,1],[78,99,65,1]]])\n",
        "tensor"
      ]
    },
    {
      "cell_type": "code",
      "execution_count": null,
      "metadata": {
        "colab": {
          "base_uri": "https://localhost:8080/"
        },
        "id": "HV0TJi-PErhd",
        "outputId": "dc0c5348-82a4-4845-b252-8454ff5c2ffa"
      },
      "outputs": [
        {
          "output_type": "execute_result",
          "data": {
            "text/plain": [
              "3"
            ]
          },
          "metadata": {},
          "execution_count": 10
        }
      ],
      "source": [
        "tensor.ndim"
      ]
    },
    {
      "cell_type": "markdown",
      "metadata": {
        "id": "2yfebvZ8EwJH"
      },
      "source": [
        "### Conclusion:\n",
        "\n",
        "\n",
        "1.   Scalar is single number\n",
        "2.   Vector is a number with direction\n",
        "3.   Matrix is a 2-dimensional array of numbers\n",
        "4.  Tensor is an n-dimensional array of numbers\n",
        "\n"
      ]
    },
    {
      "cell_type": "markdown",
      "metadata": {
        "id": "D-4qS_MXFcN6"
      },
      "source": [
        "### Create tensor with `tf.Variable`:\n",
        "\n"
      ]
    },
    {
      "cell_type": "code",
      "execution_count": null,
      "metadata": {
        "colab": {
          "base_uri": "https://localhost:8080/"
        },
        "id": "mVd5qmAaG2iy",
        "outputId": "c6715418-df38-496c-a94d-d64ddf914c1d"
      },
      "outputs": [
        {
          "output_type": "stream",
          "name": "stdout",
          "text": [
            "tf.Tensor(8.0, shape=(), dtype=float32)\n",
            "tf.Tensor(8.0, shape=(), dtype=float32)\n",
            "tf.Tensor(5.0, shape=(), dtype=float32)\n"
          ]
        }
      ],
      "source": [
        "variable_tensor = tf.Variable([[9,8,1],[1.,3,4.]],dtype=tf.float32)\n",
        "print(variable_tensor[0,1])\n",
        "print(variable_tensor[0][1])\n",
        "variable_tensor[0,1].assign(5)\n",
        "print(variable_tensor[0,1])"
      ]
    },
    {
      "cell_type": "markdown",
      "metadata": {
        "id": "w2DqOR_WG43y"
      },
      "source": [
        "### Create random tensors:"
      ]
    },
    {
      "cell_type": "code",
      "execution_count": null,
      "metadata": {
        "colab": {
          "base_uri": "https://localhost:8080/"
        },
        "id": "FJbTqZ6tJ8rc",
        "outputId": "389c5629-b0c4-4cbf-fe39-c51e1e9460c7"
      },
      "outputs": [
        {
          "output_type": "execute_result",
          "data": {
            "text/plain": [
              "(<tf.Tensor: shape=(3, 2), dtype=float32, numpy=\n",
              " array([[ 0.4604257 ,  0.514933  ],\n",
              "        [-0.06519881, -1.442522  ],\n",
              "        [-0.48492542, -1.8364043 ]], dtype=float32)>,\n",
              " <tf.Tensor: shape=(3, 2), dtype=float32, numpy=\n",
              " array([[ 0.4604257 ,  0.514933  ],\n",
              "        [-0.06519881, -1.442522  ],\n",
              "        [-0.48492542, -1.8364043 ]], dtype=float32)>,\n",
              " <tf.Tensor: shape=(3, 2), dtype=bool, numpy=\n",
              " array([[ True,  True],\n",
              "        [ True,  True],\n",
              "        [ True,  True]])>)"
            ]
          },
          "metadata": {},
          "execution_count": 12
        }
      ],
      "source": [
        "t_r1 = tf.random.Generator.from_seed(64)\n",
        "t_r1 = t_r1.normal(shape=(3,2))\n",
        "\n",
        "t_r2 = tf.random.Generator.from_seed(64)\n",
        "t_r2 = t_r2.normal(shape=(3,2))\n",
        "\n",
        "t_r1,t_r2,t_r1 == t_r2"
      ]
    },
    {
      "cell_type": "code",
      "execution_count": null,
      "metadata": {
        "colab": {
          "base_uri": "https://localhost:8080/"
        },
        "id": "diAPQO3sKRuX",
        "outputId": "6a03554d-e140-4a11-d50c-676c0220fc1a"
      },
      "outputs": [
        {
          "output_type": "execute_result",
          "data": {
            "text/plain": [
              "(<tf.Tensor: shape=(3, 2), dtype=float32, numpy=\n",
              " array([[ 0.4604257 ,  0.514933  ],\n",
              "        [-0.06519881, -1.442522  ],\n",
              "        [-0.48492542, -1.8364043 ]], dtype=float32)>,\n",
              " <tf.Tensor: shape=(3, 2), dtype=float32, numpy=\n",
              " array([[ 2.2539537 , -0.8510308 ],\n",
              "        [ 0.8119971 ,  2.0856276 ],\n",
              "        [ 0.45117483, -0.90232193]], dtype=float32)>,\n",
              " <tf.Tensor: shape=(3, 2), dtype=bool, numpy=\n",
              " array([[False, False],\n",
              "        [False, False],\n",
              "        [False, False]])>)"
            ]
          },
          "metadata": {},
          "execution_count": 13
        }
      ],
      "source": [
        "t_r3 = tf.random.Generator.from_seed(85)\n",
        "t_r3 = t_r3.normal(shape=(3,2))\n",
        "\n",
        "t_r1,t_r3,t_r1 == t_r3"
      ]
    },
    {
      "cell_type": "markdown",
      "metadata": {
        "id": "5W6DW0xQK5Wr"
      },
      "source": [
        "### Shuffle the tensor's elements :"
      ]
    },
    {
      "cell_type": "code",
      "execution_count": null,
      "metadata": {
        "colab": {
          "base_uri": "https://localhost:8080/"
        },
        "id": "SS1G2NHgNOPy",
        "outputId": "09e3e03b-3b33-4be4-d8a6-e5f07b60e8c3"
      },
      "outputs": [
        {
          "output_type": "execute_result",
          "data": {
            "text/plain": [
              "<tf.Tensor: shape=(3, 2), dtype=float32, numpy=\n",
              "array([[45. ,  0.1],\n",
              "       [10.2,  4. ],\n",
              "       [ 6. ,  5. ]], dtype=float32)>"
            ]
          },
          "metadata": {},
          "execution_count": 14
        }
      ],
      "source": [
        "n_s_t = tf.constant([[6,5]\n",
        "                    ,[45,0.1]\n",
        "                    ,[10.2,4]])\n",
        "n_s_t = tf.random.shuffle(n_s_t)\n",
        "n_s_t"
      ]
    },
    {
      "cell_type": "code",
      "execution_count": null,
      "metadata": {
        "colab": {
          "base_uri": "https://localhost:8080/"
        },
        "id": "crjVYbEhNdPC",
        "outputId": "33d8318b-72b6-4898-f131-135dde60546b"
      },
      "outputs": [
        {
          "output_type": "execute_result",
          "data": {
            "text/plain": [
              "<tf.Tensor: shape=(3, 2), dtype=float32, numpy=\n",
              "array([[10.2,  4. ],\n",
              "       [ 6. ,  5. ],\n",
              "       [45. ,  0.1]], dtype=float32)>"
            ]
          },
          "metadata": {},
          "execution_count": 15
        }
      ],
      "source": [
        "n_s_t = tf.random.shuffle(n_s_t,seed = 5)\n",
        "n_s_t"
      ]
    },
    {
      "cell_type": "code",
      "execution_count": null,
      "metadata": {
        "colab": {
          "base_uri": "https://localhost:8080/"
        },
        "id": "wuydZjzQNnhk",
        "outputId": "070bc5a4-850c-4687-9bcc-5b13c6f41f44"
      },
      "outputs": [
        {
          "output_type": "execute_result",
          "data": {
            "text/plain": [
              "<tf.Tensor: shape=(3, 2), dtype=float32, numpy=\n",
              "array([[45. ,  0.1],\n",
              "       [10.2,  4. ],\n",
              "       [ 6. ,  5. ]], dtype=float32)>"
            ]
          },
          "metadata": {},
          "execution_count": 16
        }
      ],
      "source": [
        "tf.random.set_seed(56)\n",
        "n_s_t = tf.random.shuffle(n_s_t)\n",
        "n_s_t"
      ]
    },
    {
      "cell_type": "code",
      "execution_count": null,
      "metadata": {
        "colab": {
          "base_uri": "https://localhost:8080/"
        },
        "id": "n-iIjZMtOKhQ",
        "outputId": "683235f3-b74e-4e67-b486-cb79f9a009fe"
      },
      "outputs": [
        {
          "output_type": "execute_result",
          "data": {
            "text/plain": [
              "<tf.Tensor: shape=(3, 2), dtype=float32, numpy=\n",
              "array([[45. ,  0.1],\n",
              "       [ 6. ,  5. ],\n",
              "       [10.2,  4. ]], dtype=float32)>"
            ]
          },
          "metadata": {},
          "execution_count": 17
        }
      ],
      "source": [
        "tf.random.set_seed(56)\n",
        "n_s_t = tf.random.shuffle(n_s_t,seed = 56)\n",
        "n_s_t"
      ]
    },
    {
      "cell_type": "markdown",
      "metadata": {
        "id": "McsERE6jN2V_"
      },
      "source": [
        "*If we want to shuffle our tensors in same order, we should set the global and operation level seed to a same number*\n",
        "\n",
        "> If both the global and the operation seed are set: Both seeds are used in conjunction to determine the random sequence.\n",
        "\n"
      ]
    },
    {
      "cell_type": "markdown",
      "metadata": {
        "id": "dW77n3LCP0N7"
      },
      "source": [
        "### Other ways to create tensors:"
      ]
    },
    {
      "cell_type": "code",
      "execution_count": null,
      "metadata": {
        "colab": {
          "base_uri": "https://localhost:8080/"
        },
        "id": "3oOhkJ58P-vF",
        "outputId": "6f39406a-1e9b-4fef-df32-d4f257dc84d2"
      },
      "outputs": [
        {
          "output_type": "execute_result",
          "data": {
            "text/plain": [
              "<tf.Tensor: shape=(3, 2), dtype=float32, numpy=\n",
              "array([[1., 1.],\n",
              "       [1., 1.],\n",
              "       [1., 1.]], dtype=float32)>"
            ]
          },
          "metadata": {},
          "execution_count": 18
        }
      ],
      "source": [
        "#creat tensor of all ones:\n",
        "t_ones = tf.ones(shape=(3,2))\n",
        "t_ones"
      ]
    },
    {
      "cell_type": "code",
      "execution_count": null,
      "metadata": {
        "colab": {
          "base_uri": "https://localhost:8080/"
        },
        "id": "K_cF1tnCREIu",
        "outputId": "2cb61e86-9626-4401-f778-af659e68bf66"
      },
      "outputs": [
        {
          "output_type": "execute_result",
          "data": {
            "text/plain": [
              "<tf.Tensor: shape=(3, 2), dtype=float32, numpy=\n",
              "array([[0., 0.],\n",
              "       [0., 0.],\n",
              "       [0., 0.]], dtype=float32)>"
            ]
          },
          "metadata": {},
          "execution_count": 19
        }
      ],
      "source": [
        "#creat tensor of all zeros:\n",
        "t_zeros = tf.zeros(shape=(3,2))\n",
        "t_zeros"
      ]
    },
    {
      "cell_type": "markdown",
      "metadata": {
        "id": "yYe6a5JuRXF9"
      },
      "source": [
        "### Numpy:\n",
        "NumPy arrays are optimized for CPU-based computations, while TensorFlow tensors are designed to leverage the power of GPUs and TPUs for faster and more efficient processing."
      ]
    },
    {
      "cell_type": "code",
      "execution_count": null,
      "metadata": {
        "colab": {
          "base_uri": "https://localhost:8080/"
        },
        "id": "DdjYgi8kR4aq",
        "outputId": "387dc358-42a1-489f-a5dd-8caf030d22de"
      },
      "outputs": [
        {
          "output_type": "execute_result",
          "data": {
            "text/plain": [
              "array([ 1,  2,  3,  4,  5,  6,  7,  8,  9, 10, 11, 12, 13, 14, 15, 16, 17,\n",
              "       18, 19, 20, 21, 22, 23, 24], dtype=int32)"
            ]
          },
          "metadata": {},
          "execution_count": 20
        }
      ],
      "source": [
        "import numpy as np\n",
        "numpy_A = np.arange(1,25,dtype=np.int32)\n",
        "numpy_A"
      ]
    },
    {
      "cell_type": "code",
      "execution_count": null,
      "metadata": {
        "colab": {
          "base_uri": "https://localhost:8080/"
        },
        "id": "_kKCSkuPR7zW",
        "outputId": "5907eb25-629c-4761-a5bb-bafc7c2bcbf3"
      },
      "outputs": [
        {
          "output_type": "execute_result",
          "data": {
            "text/plain": [
              "<tf.Tensor: shape=(24,), dtype=int32, numpy=\n",
              "array([ 1,  2,  3,  4,  5,  6,  7,  8,  9, 10, 11, 12, 13, 14, 15, 16, 17,\n",
              "       18, 19, 20, 21, 22, 23, 24], dtype=int32)>"
            ]
          },
          "metadata": {},
          "execution_count": 21
        }
      ],
      "source": [
        "t_n1 = tf.constant(numpy_A)\n",
        "t_n1"
      ]
    },
    {
      "cell_type": "code",
      "execution_count": null,
      "metadata": {
        "colab": {
          "base_uri": "https://localhost:8080/"
        },
        "id": "3LiDKPfiSDFM",
        "outputId": "77ad7a58-71aa-4901-cdeb-3a4b062f7cf7"
      },
      "outputs": [
        {
          "output_type": "execute_result",
          "data": {
            "text/plain": [
              "<tf.Tensor: shape=(3, 4, 2), dtype=int32, numpy=\n",
              "array([[[ 1,  2],\n",
              "        [ 3,  4],\n",
              "        [ 5,  6],\n",
              "        [ 7,  8]],\n",
              "\n",
              "       [[ 9, 10],\n",
              "        [11, 12],\n",
              "        [13, 14],\n",
              "        [15, 16]],\n",
              "\n",
              "       [[17, 18],\n",
              "        [19, 20],\n",
              "        [21, 22],\n",
              "        [23, 24]]], dtype=int32)>"
            ]
          },
          "metadata": {},
          "execution_count": 22
        }
      ],
      "source": [
        "t_n2 = tf.constant(numpy_A,shape=(3,4,2))\n",
        "t_n2"
      ]
    },
    {
      "cell_type": "markdown",
      "metadata": {
        "id": "9uRWoTGPSH6F"
      },
      "source": [
        "###Getting information from tensors:\n",
        "\n",
        "* Shape: The length (number of elements) of each of the dimension of a tensor. `tensor.shape`\n",
        "* Rank: The number of tensor dimension. A scalar has rank 0, a vector has rank 2 and a tensor hav rank n. `tensor.ndim`\n",
        "* Axis or dimension: A particular dimension of a tensor. `tensor[0], tensor[:,1] ...`\n",
        "* Size: The total number of items in the tensor. `tf.size(tensor)`"
      ]
    },
    {
      "cell_type": "code",
      "execution_count": null,
      "metadata": {
        "colab": {
          "base_uri": "https://localhost:8080/"
        },
        "id": "mjI0IKWo8XM2",
        "outputId": "535184ba-9d70-4316-e551-2ffb11b633d0"
      },
      "outputs": [
        {
          "output_type": "execute_result",
          "data": {
            "text/plain": [
              "<tf.Tensor: shape=(2, 3, 4, 5), dtype=int16, numpy=\n",
              "array([[[[0, 0, 0, 0, 0],\n",
              "         [0, 0, 0, 0, 0],\n",
              "         [0, 0, 0, 0, 0],\n",
              "         [0, 0, 0, 0, 0]],\n",
              "\n",
              "        [[0, 0, 0, 0, 0],\n",
              "         [0, 0, 0, 0, 0],\n",
              "         [0, 0, 0, 0, 0],\n",
              "         [0, 0, 0, 0, 0]],\n",
              "\n",
              "        [[0, 0, 0, 0, 0],\n",
              "         [0, 0, 0, 0, 0],\n",
              "         [0, 0, 0, 0, 0],\n",
              "         [0, 0, 0, 0, 0]]],\n",
              "\n",
              "\n",
              "       [[[0, 0, 0, 0, 0],\n",
              "         [0, 0, 0, 0, 0],\n",
              "         [0, 0, 0, 0, 0],\n",
              "         [0, 0, 0, 0, 0]],\n",
              "\n",
              "        [[0, 0, 0, 0, 0],\n",
              "         [0, 0, 0, 0, 0],\n",
              "         [0, 0, 0, 0, 0],\n",
              "         [0, 0, 0, 0, 0]],\n",
              "\n",
              "        [[0, 0, 0, 0, 0],\n",
              "         [0, 0, 0, 0, 0],\n",
              "         [0, 0, 0, 0, 0],\n",
              "         [0, 0, 0, 0, 0]]]], dtype=int16)>"
            ]
          },
          "metadata": {},
          "execution_count": 23
        }
      ],
      "source": [
        "# creat a rank 4 tensor:\n",
        "rank_4_tensor = tf.zeros(shape=[2,3,4,5],dtype=tf.int16)\n",
        "rank_4_tensor\n"
      ]
    },
    {
      "cell_type": "code",
      "execution_count": null,
      "metadata": {
        "colab": {
          "base_uri": "https://localhost:8080/"
        },
        "id": "leqqjfYw-wiH",
        "outputId": "16fc5496-3460-473e-bcbf-bfdc4cc1f9b1"
      },
      "outputs": [
        {
          "output_type": "stream",
          "name": "stdout",
          "text": [
            "Data type of each element:  <dtype: 'int16'>\n",
            "Number of dimensions (rank):  4\n",
            "Shape of tensor:  (2, 3, 4, 5)\n",
            "Element along first axis: 2\n",
            "Element along last axis: 5\n",
            "Total number of tensor:  120\n"
          ]
        }
      ],
      "source": [
        "print(\"Data type of each element: \" , rank_4_tensor.dtype)\n",
        "print(\"Number of dimensions (rank): \", rank_4_tensor.ndim)\n",
        "print(\"Shape of tensor: \" ,rank_4_tensor.shape)\n",
        "print(\"Element along first axis:\", rank_4_tensor.shape[0])\n",
        "print(\"Element along last axis:\", rank_4_tensor.shape[-1])\n",
        "print(\"Total number of tensor: \" , tf.size(rank_4_tensor).numpy())"
      ]
    },
    {
      "cell_type": "markdown",
      "metadata": {
        "id": "CkdEGqMx_uXz"
      },
      "source": [
        "### Indexing tensors\n",
        "Tensors can be indexed just like Python lists."
      ]
    },
    {
      "cell_type": "code",
      "execution_count": null,
      "metadata": {
        "colab": {
          "base_uri": "https://localhost:8080/"
        },
        "id": "MQa_74PfBZA0",
        "outputId": "47a79975-3676-4581-eb7f-2ed76d8f2be0"
      },
      "outputs": [
        {
          "output_type": "execute_result",
          "data": {
            "text/plain": [
              "<tf.Tensor: shape=(2, 2, 2, 2), dtype=int16, numpy=\n",
              "array([[[[0, 0],\n",
              "         [0, 0]],\n",
              "\n",
              "        [[0, 0],\n",
              "         [0, 0]]],\n",
              "\n",
              "\n",
              "       [[[0, 0],\n",
              "         [0, 0]],\n",
              "\n",
              "        [[0, 0],\n",
              "         [0, 0]]]], dtype=int16)>"
            ]
          },
          "metadata": {},
          "execution_count": 25
        }
      ],
      "source": [
        "# get 2 element of each dimension\n",
        "rank_4_tensor[:2,:2,:2,:2]"
      ]
    },
    {
      "cell_type": "code",
      "execution_count": null,
      "metadata": {
        "colab": {
          "base_uri": "https://localhost:8080/"
        },
        "id": "txzxeavMB4l8",
        "outputId": "68b013cf-fb42-47e7-d943-b105edb6a6e3"
      },
      "outputs": [
        {
          "output_type": "execute_result",
          "data": {
            "text/plain": [
              "<tf.Tensor: shape=(1, 1, 1, 5), dtype=int16, numpy=array([[[[0, 0, 0, 0, 0]]]], dtype=int16)>"
            ]
          },
          "metadata": {},
          "execution_count": 26
        }
      ],
      "source": [
        "# Get the first element from each dimension from each index except for the last one\n",
        "rank_4_tensor[:1,:1,:1,:]"
      ]
    },
    {
      "cell_type": "code",
      "execution_count": null,
      "metadata": {
        "colab": {
          "base_uri": "https://localhost:8080/"
        },
        "id": "ENdgpN4JCAci",
        "outputId": "071a52dd-7910-467d-d640-8f0b604a3d1d"
      },
      "outputs": [
        {
          "output_type": "execute_result",
          "data": {
            "text/plain": [
              "(<tf.Tensor: shape=(2, 3), dtype=float32, numpy=\n",
              " array([[ 0.4604257 ,  0.514933  , -0.06519881],\n",
              "        [-1.442522  , -0.48492542, -1.8364043 ]], dtype=float32)>,\n",
              " 2,\n",
              " TensorShape([2, 3]),\n",
              " <tf.Tensor: shape=(), dtype=int32, numpy=6>)"
            ]
          },
          "metadata": {},
          "execution_count": 27
        }
      ],
      "source": [
        "# Create a rank 2 tensor\n",
        "# rank_2_tensor = tf.ones(shape=[3,5], dtype=tf.double)\n",
        "# rank_2_tensor = tf.constant([[6,9,1],\n",
        "#                              [4,8,3]])\n",
        "\n",
        "rank_2_tensor = tf.random.Generator.from_seed(64)\n",
        "rank_2_tensor = rank_2_tensor.normal(shape=(2,3))\n",
        "\n",
        "rank_2_tensor , rank_2_tensor.ndim , rank_2_tensor.shape , tf.size(rank_2_tensor)"
      ]
    },
    {
      "cell_type": "code",
      "execution_count": null,
      "metadata": {
        "colab": {
          "base_uri": "https://localhost:8080/"
        },
        "id": "q4t5JRL1CTFO",
        "outputId": "48c92404-b593-41a2-f617-b8a2c3453500"
      },
      "outputs": [
        {
          "output_type": "stream",
          "name": "stdout",
          "text": [
            "-0.06519881\n",
            "-1.8364043\n"
          ]
        },
        {
          "output_type": "execute_result",
          "data": {
            "text/plain": [
              "array([-0.06519881, -1.8364043 ], dtype=float32)"
            ]
          },
          "metadata": {},
          "execution_count": 28
        }
      ],
      "source": [
        "# Get last item of this tensor\n",
        "for i in range(rank_2_tensor.shape[0]):\n",
        "    print(rank_2_tensor[i,rank_2_tensor.shape[-1]-1].numpy())\n",
        "# Another aproache:\n",
        "rank_2_tensor[:,-1].numpy()"
      ]
    },
    {
      "cell_type": "code",
      "execution_count": null,
      "metadata": {
        "colab": {
          "base_uri": "https://localhost:8080/"
        },
        "id": "RGvKKLyrD5_o",
        "outputId": "30955047-a657-46e2-ab72-758d23adef24"
      },
      "outputs": [
        {
          "output_type": "execute_result",
          "data": {
            "text/plain": [
              "<tf.Tensor: shape=(2, 3, 1), dtype=float32, numpy=\n",
              "array([[[ 0.4604257 ],\n",
              "        [ 0.514933  ],\n",
              "        [-0.06519881]],\n",
              "\n",
              "       [[-1.442522  ],\n",
              "        [-0.48492542],\n",
              "        [-1.8364043 ]]], dtype=float32)>"
            ]
          },
          "metadata": {},
          "execution_count": 29
        }
      ],
      "source": [
        "# Add in extra dimension\n",
        "rank_3_tensor = rank_2_tensor[...,tf.newaxis]\n",
        "rank_3_tensor"
      ]
    },
    {
      "cell_type": "code",
      "execution_count": null,
      "metadata": {
        "colab": {
          "base_uri": "https://localhost:8080/"
        },
        "id": "65PNCWemHjLo",
        "outputId": "db8ec1ee-1c52-4c99-86fd-d29fcde5addd"
      },
      "outputs": [
        {
          "output_type": "execute_result",
          "data": {
            "text/plain": [
              "<tf.Tensor: shape=(2, 3, 1), dtype=float32, numpy=\n",
              "array([[[ 0.4604257 ],\n",
              "        [ 0.514933  ],\n",
              "        [-0.06519881]],\n",
              "\n",
              "       [[-1.442522  ],\n",
              "        [-0.48492542],\n",
              "        [-1.8364043 ]]], dtype=float32)>"
            ]
          },
          "metadata": {},
          "execution_count": 30
        }
      ],
      "source": [
        "# Alternative to tf.newaxis\n",
        "tf.expand_dims(rank_2_tensor,axis=-1) # -1 means last axis"
      ]
    },
    {
      "cell_type": "code",
      "execution_count": null,
      "metadata": {
        "colab": {
          "base_uri": "https://localhost:8080/"
        },
        "id": "SBwgGTlxIDgj",
        "outputId": "b9667e3e-5c0d-4407-d124-dbc7c3680a9a"
      },
      "outputs": [
        {
          "output_type": "execute_result",
          "data": {
            "text/plain": [
              "<tf.Tensor: shape=(1, 2, 3), dtype=float32, numpy=\n",
              "array([[[ 0.4604257 ,  0.514933  , -0.06519881],\n",
              "        [-1.442522  , -0.48492542, -1.8364043 ]]], dtype=float32)>"
            ]
          },
          "metadata": {},
          "execution_count": 31
        }
      ],
      "source": [
        "tf.expand_dims(rank_2_tensor,axis=0) # 0 means first axis"
      ]
    },
    {
      "cell_type": "markdown",
      "metadata": {
        "id": "vdTy6bfgIN_r"
      },
      "source": [
        "### Manipulating tensors (Tensor operations)\n",
        "\n",
        "**Basic operations**\n",
        "\n",
        "`+`, `-`, `*`, `/`"
      ]
    },
    {
      "cell_type": "code",
      "execution_count": null,
      "metadata": {
        "colab": {
          "base_uri": "https://localhost:8080/"
        },
        "id": "qER5WrT0Jlex",
        "outputId": "cb8f1845-893b-4866-ab5e-acfcb1606fb4"
      },
      "outputs": [
        {
          "output_type": "execute_result",
          "data": {
            "text/plain": [
              "<tf.Tensor: shape=(2, 2), dtype=int16, numpy=\n",
              "array([[5, 8],\n",
              "       [9, 3]], dtype=int16)>"
            ]
          },
          "metadata": {},
          "execution_count": 32
        }
      ],
      "source": [
        "tens = tf.constant([[5,8],\n",
        "                   [9,3]],dtype=tf.int16)\n",
        "tens"
      ]
    },
    {
      "cell_type": "code",
      "execution_count": null,
      "metadata": {
        "colab": {
          "base_uri": "https://localhost:8080/"
        },
        "id": "aCzPMRIrJ3Kz",
        "outputId": "6c081533-6537-4305-f1ba-43e9198a16cb"
      },
      "outputs": [
        {
          "output_type": "execute_result",
          "data": {
            "text/plain": [
              "<tf.Tensor: shape=(2, 2), dtype=int16, numpy=\n",
              "array([[15, 18],\n",
              "       [19, 13]], dtype=int16)>"
            ]
          },
          "metadata": {},
          "execution_count": 33
        }
      ],
      "source": [
        "# add value to tensor\n",
        "tens + 10"
      ]
    },
    {
      "cell_type": "code",
      "execution_count": null,
      "metadata": {
        "colab": {
          "base_uri": "https://localhost:8080/"
        },
        "id": "G3H2PthsKE2K",
        "outputId": "64fa8a0b-ddaf-4da1-ba65-504ef46d49d1"
      },
      "outputs": [
        {
          "output_type": "execute_result",
          "data": {
            "text/plain": [
              "<tf.Tensor: shape=(2, 2), dtype=int16, numpy=\n",
              "array([[-5, -2],\n",
              "       [-1, -7]], dtype=int16)>"
            ]
          },
          "metadata": {},
          "execution_count": 34
        }
      ],
      "source": [
        "# subtraction\n",
        "tens - 10"
      ]
    },
    {
      "cell_type": "code",
      "execution_count": null,
      "metadata": {
        "colab": {
          "base_uri": "https://localhost:8080/"
        },
        "id": "G_43J3ZKKXzn",
        "outputId": "45b26769-d860-4486-c7b1-1bd98b37fb69"
      },
      "outputs": [
        {
          "output_type": "execute_result",
          "data": {
            "text/plain": [
              "<tf.Tensor: shape=(2, 2), dtype=int16, numpy=\n",
              "array([[50, 80],\n",
              "       [90, 30]], dtype=int16)>"
            ]
          },
          "metadata": {},
          "execution_count": 35
        }
      ],
      "source": [
        "# multiplication\n",
        "tens * 10"
      ]
    },
    {
      "cell_type": "code",
      "execution_count": null,
      "metadata": {
        "colab": {
          "base_uri": "https://localhost:8080/"
        },
        "id": "uoQ3hu2RKw36",
        "outputId": "7f08315e-6829-476d-e353-5148af37b96a"
      },
      "outputs": [
        {
          "output_type": "execute_result",
          "data": {
            "text/plain": [
              "<tf.Tensor: shape=(2, 2), dtype=float32, numpy=\n",
              "array([[0.5, 0.8],\n",
              "       [0.9, 0.3]], dtype=float32)>"
            ]
          },
          "metadata": {},
          "execution_count": 36
        }
      ],
      "source": [
        "# division\n",
        "tens / 10"
      ]
    },
    {
      "cell_type": "code",
      "execution_count": null,
      "metadata": {
        "colab": {
          "base_uri": "https://localhost:8080/"
        },
        "id": "I3MjKE8BK1rs",
        "outputId": "829fa3d3-4e7f-4098-c7f5-ccdb2e76daf9"
      },
      "outputs": [
        {
          "output_type": "execute_result",
          "data": {
            "text/plain": [
              "<tf.Tensor: shape=(2, 2), dtype=int16, numpy=\n",
              "array([[50, 80],\n",
              "       [90, 30]], dtype=int16)>"
            ]
          },
          "metadata": {},
          "execution_count": 37
        }
      ],
      "source": [
        "# use tensorflow bulit-in function\n",
        "tf.multiply(tens,10)"
      ]
    },
    {
      "cell_type": "markdown",
      "metadata": {
        "id": "GcK_nnQhLqKB"
      },
      "source": [
        "*for using the advantage of tensorflow and having a fast and optimized launching on GPU, use tensorflow built-in functions*"
      ]
    },
    {
      "cell_type": "markdown",
      "metadata": {
        "id": "MPQFKjr8MgxG"
      },
      "source": [
        "**Matrix multiplication**\n",
        "\n",
        "In machine learning, matrix multiplication is one of the most common tensor operations.\n",
        "\n",
        "There are two rules out the tensors need to fulfil if we're going to matrix multipy them:\n",
        "1. The inner dimension must match\n",
        "2. The resulting matrix has the shape of outer deminsion"
      ]
    },
    {
      "cell_type": "code",
      "execution_count": null,
      "metadata": {
        "colab": {
          "base_uri": "https://localhost:8080/"
        },
        "id": "i1DLNA0MPNPM",
        "outputId": "c9036fb7-4e86-4bef-dd71-1d547f1981b6"
      },
      "outputs": [
        {
          "output_type": "execute_result",
          "data": {
            "text/plain": [
              "(<tf.Tensor: shape=(3, 2), dtype=int32, numpy=\n",
              " array([[3, 9],\n",
              "        [1, 4],\n",
              "        [8, 2]], dtype=int32)>,\n",
              " <tf.Tensor: shape=(2, 3), dtype=int32, numpy=\n",
              " array([[1, 2, 5],\n",
              "        [8, 2, 7]], dtype=int32)>)"
            ]
          },
          "metadata": {},
          "execution_count": 38
        }
      ],
      "source": [
        "tensor1 = tf.constant([[3,9],\n",
        "                       [1,4],\n",
        "                       [8,2]])\n",
        "tensor2 = tf.constant([[1,2,5],\n",
        "                       [8,2,7]])\n",
        "\n",
        "tensor1,tensor2"
      ]
    },
    {
      "cell_type": "markdown",
      "metadata": {
        "id": "LHRzlhMDQka-"
      },
      "source": []
    },
    {
      "cell_type": "code",
      "execution_count": null,
      "metadata": {
        "colab": {
          "base_uri": "https://localhost:8080/"
        },
        "id": "LYNGy8erNDRW",
        "outputId": "f3e13746-acf1-42ba-9d4f-35c98b8ce389"
      },
      "outputs": [
        {
          "output_type": "execute_result",
          "data": {
            "text/plain": [
              "<tf.Tensor: shape=(3, 3), dtype=int32, numpy=\n",
              "array([[75, 24, 78],\n",
              "       [33, 10, 33],\n",
              "       [24, 20, 54]], dtype=int32)>"
            ]
          },
          "metadata": {},
          "execution_count": 39
        }
      ],
      "source": [
        "# multiplication using python\n",
        "tensor1 @ tensor2"
      ]
    },
    {
      "cell_type": "code",
      "execution_count": null,
      "metadata": {
        "colab": {
          "base_uri": "https://localhost:8080/"
        },
        "id": "j1KqLvdIPwe1",
        "outputId": "1c69914f-9f92-4d9e-cbe4-638998324bde"
      },
      "outputs": [
        {
          "output_type": "execute_result",
          "data": {
            "text/plain": [
              "<tf.Tensor: shape=(3, 3), dtype=int32, numpy=\n",
              "array([[75, 24, 78],\n",
              "       [33, 10, 33],\n",
              "       [24, 20, 54]], dtype=int32)>"
            ]
          },
          "metadata": {},
          "execution_count": 40
        }
      ],
      "source": [
        "# multiplication using tensorflow bulit-in function\n",
        "tf.matmul(tensor1,tensor2)"
      ]
    },
    {
      "cell_type": "code",
      "execution_count": null,
      "metadata": {
        "colab": {
          "base_uri": "https://localhost:8080/"
        },
        "id": "p3p_8WEvQrmJ",
        "outputId": "b24bde80-2387-4746-98a7-69c0340c696a"
      },
      "outputs": [
        {
          "output_type": "execute_result",
          "data": {
            "text/plain": [
              "(<tf.Tensor: shape=(2, 3), dtype=int32, numpy=\n",
              " array([[3, 9, 1],\n",
              "        [1, 4, 2]], dtype=int32)>,\n",
              " <tf.Tensor: shape=(2, 3), dtype=int32, numpy=\n",
              " array([[2, 8, 5],\n",
              "        [1, 0, 1]], dtype=int32)>)"
            ]
          },
          "metadata": {},
          "execution_count": 41
        }
      ],
      "source": [
        "tensor3 = tf.constant([[3,9,1],\n",
        "                       [1,4,2]])\n",
        "\n",
        "tensor4 = tf.constant([[2,8,5],\n",
        "                       [1,0,1]])\n",
        "\n",
        "tensor3,tensor4"
      ]
    },
    {
      "cell_type": "code",
      "execution_count": null,
      "metadata": {
        "colab": {
          "base_uri": "https://localhost:8080/"
        },
        "id": "uFbwplpDxsWO",
        "outputId": "3f083ae2-64b9-441e-a3c8-e1699116de73"
      },
      "outputs": [
        {
          "output_type": "execute_result",
          "data": {
            "text/plain": [
              "<tf.Tensor: shape=(3, 2), dtype=int32, numpy=\n",
              "array([[3, 9],\n",
              "       [1, 1],\n",
              "       [4, 2]], dtype=int32)>"
            ]
          },
          "metadata": {},
          "execution_count": 42
        }
      ],
      "source": [
        "# multiplication using tf.reshape()\n",
        "tf.reshape(tensor3,shape=(3,2))\n"
      ]
    },
    {
      "cell_type": "code",
      "source": [
        "tf.matmul(tf.reshape(tensor3,shape=(3,2)),tensor4)"
      ],
      "metadata": {
        "id": "fqmkJbRK0pBT",
        "colab": {
          "base_uri": "https://localhost:8080/"
        },
        "outputId": "a9056655-e016-4710-a5c3-08b9c214461a"
      },
      "execution_count": null,
      "outputs": [
        {
          "output_type": "execute_result",
          "data": {
            "text/plain": [
              "<tf.Tensor: shape=(3, 3), dtype=int32, numpy=\n",
              "array([[15, 24, 24],\n",
              "       [ 3,  8,  6],\n",
              "       [10, 32, 22]], dtype=int32)>"
            ]
          },
          "metadata": {},
          "execution_count": 43
        }
      ]
    },
    {
      "cell_type": "code",
      "source": [
        "tensor4.shape"
      ],
      "metadata": {
        "colab": {
          "base_uri": "https://localhost:8080/"
        },
        "id": "wCDiX6Ho4Khc",
        "outputId": "ddef7cb1-c3ee-43fa-ffd8-085d20510555"
      },
      "execution_count": null,
      "outputs": [
        {
          "output_type": "execute_result",
          "data": {
            "text/plain": [
              "TensorShape([2, 3])"
            ]
          },
          "metadata": {},
          "execution_count": 44
        }
      ]
    },
    {
      "cell_type": "code",
      "source": [
        "tf.matmul(tensor4,tf.reshape(tensor3,shape=(3,2)))"
      ],
      "metadata": {
        "id": "UxOT2qa724NI",
        "colab": {
          "base_uri": "https://localhost:8080/"
        },
        "outputId": "b49c76b1-a7f8-4182-8124-5054839b3f6d"
      },
      "execution_count": null,
      "outputs": [
        {
          "output_type": "execute_result",
          "data": {
            "text/plain": [
              "<tf.Tensor: shape=(2, 2), dtype=int32, numpy=\n",
              "array([[34, 36],\n",
              "       [ 7, 11]], dtype=int32)>"
            ]
          },
          "metadata": {},
          "execution_count": 45
        }
      ]
    },
    {
      "cell_type": "code",
      "source": [
        "# multiplication using tf.transpose()\n",
        "tf.transpose(tensor3)"
      ],
      "metadata": {
        "colab": {
          "base_uri": "https://localhost:8080/"
        },
        "id": "LJA7LG-r5GXd",
        "outputId": "6e1f72ce-4265-4acf-e8f7-886bbe230df5"
      },
      "execution_count": null,
      "outputs": [
        {
          "output_type": "execute_result",
          "data": {
            "text/plain": [
              "<tf.Tensor: shape=(3, 2), dtype=int32, numpy=\n",
              "array([[3, 1],\n",
              "       [9, 4],\n",
              "       [1, 2]], dtype=int32)>"
            ]
          },
          "metadata": {},
          "execution_count": 46
        }
      ]
    },
    {
      "cell_type": "code",
      "source": [
        "tf.matmul(tf.transpose(tensor3),tensor4)"
      ],
      "metadata": {
        "colab": {
          "base_uri": "https://localhost:8080/"
        },
        "id": "gtaEvH_i5-oz",
        "outputId": "93a50356-188b-4ebe-c2a3-f98e2bb0faa3"
      },
      "execution_count": null,
      "outputs": [
        {
          "output_type": "execute_result",
          "data": {
            "text/plain": [
              "<tf.Tensor: shape=(3, 3), dtype=int32, numpy=\n",
              "array([[ 7, 24, 16],\n",
              "       [22, 72, 49],\n",
              "       [ 4,  8,  7]], dtype=int32)>"
            ]
          },
          "metadata": {},
          "execution_count": 47
        }
      ]
    },
    {
      "cell_type": "code",
      "source": [
        "tf.matmul(tensor3,tf.transpose(tensor4))"
      ],
      "metadata": {
        "colab": {
          "base_uri": "https://localhost:8080/"
        },
        "id": "bR8HS0Dj606I",
        "outputId": "55030a7f-e775-471f-cbec-53e6de807ff1"
      },
      "execution_count": null,
      "outputs": [
        {
          "output_type": "execute_result",
          "data": {
            "text/plain": [
              "<tf.Tensor: shape=(2, 2), dtype=int32, numpy=\n",
              "array([[83,  4],\n",
              "       [44,  3]], dtype=int32)>"
            ]
          },
          "metadata": {},
          "execution_count": 48
        }
      ]
    },
    {
      "cell_type": "markdown",
      "source": [
        "## Difference between Transpose and Reshape:\n",
        "\n",
        "*   `tf.reshape()` changes the shape (layout) while `tf.transpose()` changes the order of dimensions (axes).\n",
        "*   `tf.transpose()` preserves the order of elements while `tf.reshape()` changes the order of elements in most cases, although it can coincidentally match the original order in some specific scenarios.\n",
        "\n"
      ],
      "metadata": {
        "id": "70RrfNPT3RsF"
      }
    },
    {
      "cell_type": "markdown",
      "source": [
        "\n",
        "**The Dot Product**\n",
        "\n",
        "Matrix multiplication is also referred to as dot product.\n",
        "\n",
        "Matrix multiplication can be performed using:\n",
        "\n",
        "* `tf.matmul()`\n",
        "* `tf.tensordot()`\n",
        "* `@`\n"
      ],
      "metadata": {
        "id": "wg0mSMiMyRzT"
      }
    },
    {
      "cell_type": "code",
      "source": [
        "tensor3, tensor4"
      ],
      "metadata": {
        "colab": {
          "base_uri": "https://localhost:8080/"
        },
        "id": "_DkAL0RnysY9",
        "outputId": "65821e44-3c69-4dd1-99b4-649b567ac532"
      },
      "execution_count": null,
      "outputs": [
        {
          "output_type": "execute_result",
          "data": {
            "text/plain": [
              "(<tf.Tensor: shape=(2, 3), dtype=int32, numpy=\n",
              " array([[3, 9, 1],\n",
              "        [1, 4, 2]], dtype=int32)>,\n",
              " <tf.Tensor: shape=(2, 3), dtype=int32, numpy=\n",
              " array([[2, 8, 5],\n",
              "        [1, 0, 1]], dtype=int32)>)"
            ]
          },
          "metadata": {},
          "execution_count": 49
        }
      ]
    },
    {
      "cell_type": "code",
      "source": [
        "tf.tensordot(tensor3,tf.transpose(tensor4),axes=1)"
      ],
      "metadata": {
        "colab": {
          "base_uri": "https://localhost:8080/"
        },
        "id": "89Xehhtc1HHb",
        "outputId": "fede147c-0520-49b8-cc16-c6416a9cdcd7"
      },
      "execution_count": null,
      "outputs": [
        {
          "output_type": "execute_result",
          "data": {
            "text/plain": [
              "<tf.Tensor: shape=(2, 2), dtype=int32, numpy=\n",
              "array([[83,  4],\n",
              "       [44,  3]], dtype=int32)>"
            ]
          },
          "metadata": {},
          "execution_count": 50
        }
      ]
    },
    {
      "cell_type": "code",
      "source": [
        "tf.matmul(tensor3,tf.transpose(tensor4))"
      ],
      "metadata": {
        "colab": {
          "base_uri": "https://localhost:8080/"
        },
        "id": "gulQGgo81jdN",
        "outputId": "f3877f7b-d0ca-49e9-a775-dc516d43f982"
      },
      "execution_count": null,
      "outputs": [
        {
          "output_type": "execute_result",
          "data": {
            "text/plain": [
              "<tf.Tensor: shape=(2, 2), dtype=int32, numpy=\n",
              "array([[83,  4],\n",
              "       [44,  3]], dtype=int32)>"
            ]
          },
          "metadata": {},
          "execution_count": 51
        }
      ]
    },
    {
      "cell_type": "code",
      "source": [
        "print(\"Tensor4:\" , tensor4)\n",
        "print(\"\\nReshaped to (3,2) \", tf.reshape(tensor4,shape=(3,2)))\n",
        "print(\"\\nTransposed: \",tf.transpose(tensor4))"
      ],
      "metadata": {
        "colab": {
          "base_uri": "https://localhost:8080/"
        },
        "id": "dUeqCJ2z1_eV",
        "outputId": "1486cc16-6c5e-4378-bb2d-d76d6b603b01"
      },
      "execution_count": null,
      "outputs": [
        {
          "output_type": "stream",
          "name": "stdout",
          "text": [
            "Tensor4: tf.Tensor(\n",
            "[[2 8 5]\n",
            " [1 0 1]], shape=(2, 3), dtype=int32)\n",
            "\n",
            "Reshaped to (3,2)  tf.Tensor(\n",
            "[[2 8]\n",
            " [5 1]\n",
            " [0 1]], shape=(3, 2), dtype=int32)\n",
            "\n",
            "Transposed:  tf.Tensor(\n",
            "[[2 1]\n",
            " [8 0]\n",
            " [5 1]], shape=(3, 2), dtype=int32)\n"
          ]
        }
      ]
    },
    {
      "cell_type": "markdown",
      "source": [
        "Generally, when performing matrix multiplication on two tensor  and one of the axes doesn't line up, use `tf.transpose()` (rather than `tf.reshape()`) on one of the tensors to gte them satisfy  with the matrix multiplication rules."
      ],
      "metadata": {
        "id": "xzJYqyKO2k9V"
      }
    },
    {
      "cell_type": "markdown",
      "source": [
        "## Change the datatype of a tensor"
      ],
      "metadata": {
        "id": "NKK9AVpE3ifZ"
      }
    },
    {
      "cell_type": "code",
      "source": [
        "t1 = tf.constant([6.4,8.5])\n",
        "t1,t1.dtype"
      ],
      "metadata": {
        "colab": {
          "base_uri": "https://localhost:8080/"
        },
        "id": "2kKS9Znz4J75",
        "outputId": "96899983-5cfb-4129-c922-2184e1f41a57"
      },
      "execution_count": null,
      "outputs": [
        {
          "output_type": "execute_result",
          "data": {
            "text/plain": [
              "(<tf.Tensor: shape=(2,), dtype=float32, numpy=array([6.4, 8.5], dtype=float32)>,\n",
              " tf.float32)"
            ]
          },
          "metadata": {},
          "execution_count": 53
        }
      ]
    },
    {
      "cell_type": "code",
      "source": [
        "t2 = tf.constant([6,4])\n",
        "t2,t2.dtype"
      ],
      "metadata": {
        "colab": {
          "base_uri": "https://localhost:8080/"
        },
        "id": "y5iyrzaN5hLc",
        "outputId": "6b82ac21-5ef1-4090-d582-59c4aab73716"
      },
      "execution_count": null,
      "outputs": [
        {
          "output_type": "execute_result",
          "data": {
            "text/plain": [
              "(<tf.Tensor: shape=(2,), dtype=int32, numpy=array([6, 4], dtype=int32)>,\n",
              " tf.int32)"
            ]
          },
          "metadata": {},
          "execution_count": 54
        }
      ]
    },
    {
      "cell_type": "code",
      "source": [
        "# Change from float32 to float16 (reduced precision)\n",
        "t1_f16 = tf.cast(t1,dtype = tf.float16)\n",
        "t1_f16 , t1_f16.dtype"
      ],
      "metadata": {
        "colab": {
          "base_uri": "https://localhost:8080/"
        },
        "id": "pp421QBr4f-x",
        "outputId": "91419809-7919-4264-fcac-99e14fb51d2d"
      },
      "execution_count": null,
      "outputs": [
        {
          "output_type": "execute_result",
          "data": {
            "text/plain": [
              "(<tf.Tensor: shape=(2,), dtype=float16, numpy=array([6.4, 8.5], dtype=float16)>,\n",
              " tf.float16)"
            ]
          },
          "metadata": {},
          "execution_count": 55
        }
      ]
    },
    {
      "cell_type": "code",
      "source": [
        "# Change from int32 to int16 (reduced precision)\n",
        "t2_i16 = tf.cast(t2,dtype = tf.int16)\n",
        "t2_i16 , t2_i16.dtype"
      ],
      "metadata": {
        "colab": {
          "base_uri": "https://localhost:8080/"
        },
        "id": "pCLRPMui508s",
        "outputId": "86d0861e-d75b-403f-ee67-5b7ca912a347"
      },
      "execution_count": null,
      "outputs": [
        {
          "output_type": "execute_result",
          "data": {
            "text/plain": [
              "(<tf.Tensor: shape=(2,), dtype=int16, numpy=array([6, 4], dtype=int16)>,\n",
              " tf.int16)"
            ]
          },
          "metadata": {},
          "execution_count": 56
        }
      ]
    },
    {
      "cell_type": "markdown",
      "source": [
        "Reducing the datatype of a tensor, make calculation much faster and use less memory."
      ],
      "metadata": {
        "id": "3HvqRR-96GHQ"
      }
    },
    {
      "cell_type": "code",
      "source": [
        "t3 = tf.constant([-64,-40])\n",
        "t3"
      ],
      "metadata": {
        "id": "gxfLVS3v60bt",
        "colab": {
          "base_uri": "https://localhost:8080/"
        },
        "outputId": "a37c2755-33d3-422e-8ae3-364e9c3bc30f"
      },
      "execution_count": null,
      "outputs": [
        {
          "output_type": "execute_result",
          "data": {
            "text/plain": [
              "<tf.Tensor: shape=(2,), dtype=int32, numpy=array([-64, -40], dtype=int32)>"
            ]
          },
          "metadata": {},
          "execution_count": 57
        }
      ]
    },
    {
      "cell_type": "code",
      "source": [
        "# Get absolute values\n",
        "tf.abs(t3)"
      ],
      "metadata": {
        "colab": {
          "base_uri": "https://localhost:8080/"
        },
        "id": "yTHMbCRs9Nvt",
        "outputId": "c7355ff7-a2fc-478c-eb11-dc3b91474355"
      },
      "execution_count": null,
      "outputs": [
        {
          "output_type": "execute_result",
          "data": {
            "text/plain": [
              "<tf.Tensor: shape=(2,), dtype=int32, numpy=array([64, 40], dtype=int32)>"
            ]
          },
          "metadata": {},
          "execution_count": 58
        }
      ]
    },
    {
      "cell_type": "markdown",
      "source": [
        "## Aggregating tensors\n",
        "\n",
        "> Aggregating tensors is condensing them from multiple values to a smaller amount of values.\n",
        "\n",
        "### Forms of aggregations:\n",
        "\n",
        "\n",
        "\n",
        "\n",
        "1.   Get the minimum\n",
        "2.   Get the maximum\n",
        "3.   Get the mean of a tensor\n",
        "4.   Get the sum of a  tensor\n",
        "\n",
        "\n",
        "\n",
        "\n"
      ],
      "metadata": {
        "id": "EyMaj90q6rC0"
      }
    },
    {
      "cell_type": "code",
      "source": [
        "# t4 = tf.random.Generator.from_seed(64)\n",
        "# t4 = t4.normal(shape=(5,5))\n",
        "t4 = tf.constant(np.random.randint(1,100,size=50))\n",
        "t4 = tf.cast(t4,dtype = tf.float16)\n",
        "t4"
      ],
      "metadata": {
        "id": "YzsFuS2L9QBi",
        "colab": {
          "base_uri": "https://localhost:8080/"
        },
        "outputId": "9a71f80b-bdad-4d92-f892-ab1751a7cdee"
      },
      "execution_count": null,
      "outputs": [
        {
          "output_type": "execute_result",
          "data": {
            "text/plain": [
              "<tf.Tensor: shape=(50,), dtype=float16, numpy=\n",
              "array([81., 34., 60., 35., 82., 19., 16., 63., 76., 74., 42., 96., 80.,\n",
              "        3., 28., 89., 56., 67., 51., 25., 90., 17., 88.,  7., 45., 52.,\n",
              "       24., 69., 35., 74., 59., 81., 66., 58., 51.,  3., 92., 67., 19.,\n",
              "       17., 52., 74., 79., 89., 55., 36., 65., 10., 35., 16.],\n",
              "      dtype=float16)>"
            ]
          },
          "metadata": {},
          "execution_count": 59
        }
      ]
    },
    {
      "cell_type": "code",
      "source": [
        "tf.size(t4).numpy(),t4.shape,t4.ndim,t4.dtype"
      ],
      "metadata": {
        "colab": {
          "base_uri": "https://localhost:8080/"
        },
        "id": "X7axYQKj_fFm",
        "outputId": "fa5f721d-3f68-4e28-fa07-7aaf2e3dbbc8"
      },
      "execution_count": null,
      "outputs": [
        {
          "output_type": "execute_result",
          "data": {
            "text/plain": [
              "(50, TensorShape([50]), 1, tf.float16)"
            ]
          },
          "metadata": {},
          "execution_count": 60
        }
      ]
    },
    {
      "cell_type": "code",
      "source": [
        "# Find the minimum\n",
        "tf.reduce_min(t4).numpy()"
      ],
      "metadata": {
        "colab": {
          "base_uri": "https://localhost:8080/"
        },
        "id": "PWAgXZy-BTRw",
        "outputId": "adc36b7f-09e3-4226-8fc8-f7b0018cf946"
      },
      "execution_count": null,
      "outputs": [
        {
          "output_type": "execute_result",
          "data": {
            "text/plain": [
              "3.0"
            ]
          },
          "metadata": {},
          "execution_count": 61
        }
      ]
    },
    {
      "cell_type": "code",
      "source": [
        "# Find the maximum\n",
        "tf.reduce_max(t4).numpy()"
      ],
      "metadata": {
        "colab": {
          "base_uri": "https://localhost:8080/"
        },
        "id": "UTWdqRz2BEET",
        "outputId": "97006ebc-14b4-4334-fe36-f61035be7046"
      },
      "execution_count": null,
      "outputs": [
        {
          "output_type": "execute_result",
          "data": {
            "text/plain": [
              "96.0"
            ]
          },
          "metadata": {},
          "execution_count": 62
        }
      ]
    },
    {
      "cell_type": "code",
      "source": [
        "# Find the mean\n",
        "tf.reduce_mean(t4).numpy()"
      ],
      "metadata": {
        "colab": {
          "base_uri": "https://localhost:8080/"
        },
        "id": "4dwblx4oCAq_",
        "outputId": "f871a194-a253-42d4-a52a-7b1336d5a4a9"
      },
      "execution_count": null,
      "outputs": [
        {
          "output_type": "execute_result",
          "data": {
            "text/plain": [
              "52.1"
            ]
          },
          "metadata": {},
          "execution_count": 63
        }
      ]
    },
    {
      "cell_type": "code",
      "source": [
        "# Use loop\n",
        "sum = 0\n",
        "for i in range(tf.size(t4).numpy()):\n",
        "  sum += t4[i]\n",
        "(sum/tf.size(t4).numpy()).numpy()"
      ],
      "metadata": {
        "collapsed": true,
        "colab": {
          "base_uri": "https://localhost:8080/"
        },
        "id": "qXmddvJ9CQde",
        "outputId": "a5a84fd8-cf5c-4ec4-8e5b-a456603a58d4"
      },
      "execution_count": null,
      "outputs": [
        {
          "output_type": "execute_result",
          "data": {
            "text/plain": [
              "52.0"
            ]
          },
          "metadata": {},
          "execution_count": 64
        }
      ]
    },
    {
      "cell_type": "code",
      "source": [
        "# Find the sum\n",
        "tf.reduce_sum(t4).numpy()"
      ],
      "metadata": {
        "colab": {
          "base_uri": "https://localhost:8080/"
        },
        "id": "9t6mOrtWCe4n",
        "outputId": "783a5c7b-c782-466b-c619-171f784bd811"
      },
      "execution_count": null,
      "outputs": [
        {
          "output_type": "execute_result",
          "data": {
            "text/plain": [
              "2604.0"
            ]
          },
          "metadata": {},
          "execution_count": 65
        }
      ]
    },
    {
      "cell_type": "code",
      "source": [
        "(tf.reduce_sum(t4).numpy()/tf.size(t4).numpy() == tf.reduce_mean(t4)).numpy()"
      ],
      "metadata": {
        "colab": {
          "base_uri": "https://localhost:8080/"
        },
        "id": "8DgvEaETDTHT",
        "outputId": "b2243894-2063-49d6-c307-15131d89262b"
      },
      "execution_count": null,
      "outputs": [
        {
          "output_type": "execute_result",
          "data": {
            "text/plain": [
              "True"
            ]
          },
          "metadata": {},
          "execution_count": 66
        }
      ]
    },
    {
      "cell_type": "code",
      "source": [
        "# Find the variance and standard deviation\n",
        "stat1 = []\n",
        "stat1.append(tf.math.reduce_variance(t4))\n",
        "stat1.append(tf.math.reduce_std(t4))\n",
        "# or using tesorflow provavility package\n",
        "stat2 = []\n",
        "stat2.append(tfp.stats.variance(t4))\n",
        "stat2.append(tfp.stats.stddev(t4))\n",
        "stat1,stat2\n",
        "# note: input should be float!"
      ],
      "metadata": {
        "id": "01Q4uWThDzEs",
        "colab": {
          "base_uri": "https://localhost:8080/"
        },
        "outputId": "1741d5a0-6792-458b-df11-253622258deb"
      },
      "execution_count": null,
      "outputs": [
        {
          "output_type": "execute_result",
          "data": {
            "text/plain": [
              "([<tf.Tensor: shape=(), dtype=float16, numpy=720.5>,\n",
              "  <tf.Tensor: shape=(), dtype=float16, numpy=26.84>],\n",
              " [<tf.Tensor: shape=(), dtype=float16, numpy=720.5>,\n",
              "  <tf.Tensor: shape=(), dtype=float16, numpy=26.84>])"
            ]
          },
          "metadata": {},
          "execution_count": 67
        }
      ]
    },
    {
      "cell_type": "markdown",
      "source": [
        "## Find positional maximum & minimum"
      ],
      "metadata": {
        "id": "LY-Y68A7F4OS"
      }
    },
    {
      "cell_type": "code",
      "source": [
        "t5 = tf.random.Generator.from_seed(64)\n",
        "t5 = tf.random.uniform(shape=[50],dtype=tf.float16)\n",
        "t5"
      ],
      "metadata": {
        "colab": {
          "base_uri": "https://localhost:8080/"
        },
        "id": "rVQMgdeXIhrA",
        "outputId": "bc98c533-b1c0-4d73-f237-23b3e30f7dea"
      },
      "execution_count": null,
      "outputs": [
        {
          "output_type": "execute_result",
          "data": {
            "text/plain": [
              "<tf.Tensor: shape=(50,), dtype=float16, numpy=\n",
              "array([0.991  , 0.874  , 0.789  , 0.337  , 0.5244 , 0.3389 , 0.789  ,\n",
              "       0.     , 0.1934 , 0.4785 , 0.7725 , 0.4727 , 0.4434 , 0.8203 ,\n",
              "       0.2705 , 0.547  , 0.05078, 0.9785 , 0.9375 , 0.3555 , 0.3857 ,\n",
              "       0.5645 , 0.6035 , 0.1494 , 0.8496 , 0.3691 , 0.0547 , 0.2666 ,\n",
              "       0.2627 , 0.715  , 0.3877 , 0.5234 , 0.1729 , 0.7725 , 0.538  ,\n",
              "       0.1279 , 0.6104 , 0.5527 , 0.2646 , 0.961  , 0.03516, 0.5166 ,\n",
              "       0.834  , 0.6123 , 0.1816 , 0.8076 , 0.587  , 0.7354 , 0.586  ,\n",
              "       0.1045 ], dtype=float16)>"
            ]
          },
          "metadata": {},
          "execution_count": 68
        }
      ]
    },
    {
      "cell_type": "code",
      "source": [
        "# Find the positinal maximum\n",
        "print(tf.argmax(t5).numpy())\n",
        "# or use np.argmax(t5.numpy())\n",
        "#asser\n",
        "tf.reduce_max(t5).numpy() == t5[tf.argmax(t5)].numpy()"
      ],
      "metadata": {
        "colab": {
          "base_uri": "https://localhost:8080/"
        },
        "id": "kQnvuPzOIrau",
        "outputId": "57814c77-0439-44ed-a940-5f9dfc4dd60c"
      },
      "execution_count": null,
      "outputs": [
        {
          "output_type": "stream",
          "name": "stdout",
          "text": [
            "0\n"
          ]
        },
        {
          "output_type": "execute_result",
          "data": {
            "text/plain": [
              "True"
            ]
          },
          "metadata": {},
          "execution_count": 69
        }
      ]
    },
    {
      "cell_type": "code",
      "source": [
        "# Find the positinal minimum\n",
        "print(tf.argmin(t5).numpy())\n",
        "# or use np.argmax(t5.numpy())\n",
        "tf.reduce_min(t5).numpy() == t5[tf.argmin(t5)].numpy()"
      ],
      "metadata": {
        "colab": {
          "base_uri": "https://localhost:8080/"
        },
        "id": "Hig7BFI-JQzk",
        "outputId": "fb16db27-8b19-4fe4-e870-19e6aea80f2c"
      },
      "execution_count": null,
      "outputs": [
        {
          "output_type": "stream",
          "name": "stdout",
          "text": [
            "7\n"
          ]
        },
        {
          "output_type": "execute_result",
          "data": {
            "text/plain": [
              "True"
            ]
          },
          "metadata": {},
          "execution_count": 70
        }
      ]
    },
    {
      "cell_type": "markdown",
      "source": [
        "## Squeezin a tensor (removing all single dimensions)"
      ],
      "metadata": {
        "id": "ajsl99VYJdKr"
      }
    },
    {
      "cell_type": "code",
      "source": [
        "t6 = tf.constant(tf.random.uniform(shape=(64,)),shape=(1,1,1,1,64))\n",
        "t6 = tf.cast(t6,dtype=tf.float16)\n",
        "t6"
      ],
      "metadata": {
        "colab": {
          "base_uri": "https://localhost:8080/"
        },
        "id": "F9SUFxLHKWhW",
        "outputId": "a70c9b54-4605-44b9-d2aa-b500fdfba91e"
      },
      "execution_count": null,
      "outputs": [
        {
          "output_type": "execute_result",
          "data": {
            "text/plain": [
              "<tf.Tensor: shape=(1, 1, 1, 1, 64), dtype=float16, numpy=\n",
              "array([[[[[0.403  , 0.572  , 0.2411 , 0.742  , 0.4983 , 0.902  ,\n",
              "           0.12054, 0.9023 , 0.8574 , 0.2957 , 0.5283 , 0.789  ,\n",
              "           0.5283 , 0.05505, 0.09247, 0.6104 , 0.3647 , 0.161  ,\n",
              "           0.566  , 0.05942, 0.2358 , 0.6553 , 0.2471 , 0.545  ,\n",
              "           0.842  , 0.8496 , 0.549  , 0.2489 , 0.4924 , 0.1542 ,\n",
              "           0.0993 , 0.436  , 0.7783 , 0.354  , 0.553  , 0.3271 ,\n",
              "           0.4705 , 0.1763 , 0.7363 , 0.5996 , 0.912  , 0.2947 ,\n",
              "           0.2788 , 0.385  , 0.8525 , 0.957  , 0.52   , 0.6436 ,\n",
              "           0.327  , 0.1675 , 0.5107 , 0.392  , 0.9697 , 0.9785 ,\n",
              "           0.2048 , 0.1433 , 0.7686 , 0.958  , 0.1499 , 0.1823 ,\n",
              "           0.8604 , 0.0986 , 0.8228 , 0.3862 ]]]]], dtype=float16)>"
            ]
          },
          "metadata": {},
          "execution_count": 71
        }
      ]
    },
    {
      "cell_type": "code",
      "source": [
        "t6.shape"
      ],
      "metadata": {
        "colab": {
          "base_uri": "https://localhost:8080/"
        },
        "id": "A-P9mxZTKlI8",
        "outputId": "5c72b1d2-f556-42bd-c508-62abfdef5794"
      },
      "execution_count": null,
      "outputs": [
        {
          "output_type": "execute_result",
          "data": {
            "text/plain": [
              "TensorShape([1, 1, 1, 1, 64])"
            ]
          },
          "metadata": {},
          "execution_count": 72
        }
      ]
    },
    {
      "cell_type": "code",
      "source": [
        "t6_squeezed = tf.squeeze(t6)\n",
        "t6_squeezed"
      ],
      "metadata": {
        "colab": {
          "base_uri": "https://localhost:8080/"
        },
        "id": "HM0KwTbfLQ9e",
        "outputId": "0f47284c-5ad0-4ec9-8351-30753f094091"
      },
      "execution_count": null,
      "outputs": [
        {
          "output_type": "execute_result",
          "data": {
            "text/plain": [
              "<tf.Tensor: shape=(64,), dtype=float16, numpy=\n",
              "array([0.403  , 0.572  , 0.2411 , 0.742  , 0.4983 , 0.902  , 0.12054,\n",
              "       0.9023 , 0.8574 , 0.2957 , 0.5283 , 0.789  , 0.5283 , 0.05505,\n",
              "       0.09247, 0.6104 , 0.3647 , 0.161  , 0.566  , 0.05942, 0.2358 ,\n",
              "       0.6553 , 0.2471 , 0.545  , 0.842  , 0.8496 , 0.549  , 0.2489 ,\n",
              "       0.4924 , 0.1542 , 0.0993 , 0.436  , 0.7783 , 0.354  , 0.553  ,\n",
              "       0.3271 , 0.4705 , 0.1763 , 0.7363 , 0.5996 , 0.912  , 0.2947 ,\n",
              "       0.2788 , 0.385  , 0.8525 , 0.957  , 0.52   , 0.6436 , 0.327  ,\n",
              "       0.1675 , 0.5107 , 0.392  , 0.9697 , 0.9785 , 0.2048 , 0.1433 ,\n",
              "       0.7686 , 0.958  , 0.1499 , 0.1823 , 0.8604 , 0.0986 , 0.8228 ,\n",
              "       0.3862 ], dtype=float16)>"
            ]
          },
          "metadata": {},
          "execution_count": 73
        }
      ]
    },
    {
      "cell_type": "markdown",
      "source": [
        "## One-hot encoding tensors\n",
        "\n",
        ">  It is a method used to represent categorical data in a format that can be easily processed by machine learning algorithms.\n",
        "\n",
        "\n",
        "\n"
      ],
      "metadata": {
        "id": "xzvM4QO1LWMp"
      }
    },
    {
      "cell_type": "code",
      "source": [
        "list1 = [0,1,2,3]\n",
        "tf.one_hot(list1,depth=tf.size(list1).numpy())"
      ],
      "metadata": {
        "colab": {
          "base_uri": "https://localhost:8080/"
        },
        "id": "YdNqTxLgMF_P",
        "outputId": "36f22cf9-8e31-4c28-d16c-d86bf5ce0c53"
      },
      "execution_count": null,
      "outputs": [
        {
          "output_type": "execute_result",
          "data": {
            "text/plain": [
              "<tf.Tensor: shape=(4, 4), dtype=float32, numpy=\n",
              "array([[1., 0., 0., 0.],\n",
              "       [0., 1., 0., 0.],\n",
              "       [0., 0., 1., 0.],\n",
              "       [0., 0., 0., 1.]], dtype=float32)>"
            ]
          },
          "metadata": {},
          "execution_count": 74
        }
      ]
    },
    {
      "cell_type": "code",
      "source": [
        "tf.one_hot(list1,depth=tf.size(list1).numpy(),on_value=\"Oui\",off_value=\"Non\")"
      ],
      "metadata": {
        "colab": {
          "base_uri": "https://localhost:8080/"
        },
        "id": "rbr8T1HOMZjb",
        "outputId": "8908d2e5-a889-4f05-ba71-2bceaf58676c"
      },
      "execution_count": null,
      "outputs": [
        {
          "output_type": "execute_result",
          "data": {
            "text/plain": [
              "<tf.Tensor: shape=(4, 4), dtype=string, numpy=\n",
              "array([[b'Oui', b'Non', b'Non', b'Non'],\n",
              "       [b'Non', b'Oui', b'Non', b'Non'],\n",
              "       [b'Non', b'Non', b'Oui', b'Non'],\n",
              "       [b'Non', b'Non', b'Non', b'Oui']], dtype=object)>"
            ]
          },
          "metadata": {},
          "execution_count": 75
        }
      ]
    },
    {
      "cell_type": "markdown",
      "source": [
        "## More tensor math operations"
      ],
      "metadata": {
        "id": "K20DvOkQMnXQ"
      }
    },
    {
      "cell_type": "code",
      "source": [
        "t6 = tf.range(1,10)\n",
        "t6 = tf.cast(t6,dtype=tf.float16)\n",
        "t6"
      ],
      "metadata": {
        "colab": {
          "base_uri": "https://localhost:8080/"
        },
        "id": "ZrYW6qvpM_7K",
        "outputId": "d0fdbc64-4e36-4c5c-db6e-36289db073d2"
      },
      "execution_count": null,
      "outputs": [
        {
          "output_type": "execute_result",
          "data": {
            "text/plain": [
              "<tf.Tensor: shape=(9,), dtype=float16, numpy=array([1., 2., 3., 4., 5., 6., 7., 8., 9.], dtype=float16)>"
            ]
          },
          "metadata": {},
          "execution_count": 76
        }
      ]
    },
    {
      "cell_type": "code",
      "source": [
        "# Square it\n",
        "tf.square(t6).numpy()"
      ],
      "metadata": {
        "colab": {
          "base_uri": "https://localhost:8080/"
        },
        "id": "_xONX_wnNNmC",
        "outputId": "a3fe043b-10b0-4fad-bee5-6f81024542f2"
      },
      "execution_count": null,
      "outputs": [
        {
          "output_type": "execute_result",
          "data": {
            "text/plain": [
              "array([ 1.,  4.,  9., 16., 25., 36., 49., 64., 81.], dtype=float16)"
            ]
          },
          "metadata": {},
          "execution_count": 77
        }
      ]
    },
    {
      "cell_type": "code",
      "source": [
        " # Finde the squareroot\n",
        " tf.math.sqrt(t6).numpy()"
      ],
      "metadata": {
        "colab": {
          "base_uri": "https://localhost:8080/"
        },
        "id": "IgslG1ErNTcR",
        "outputId": "0b84f2a1-999c-4370-cf25-68a63d2ba11f"
      },
      "execution_count": null,
      "outputs": [
        {
          "output_type": "execute_result",
          "data": {
            "text/plain": [
              "array([1.   , 1.414, 1.732, 2.   , 2.236, 2.45 , 2.646, 2.828, 3.   ],\n",
              "      dtype=float16)"
            ]
          },
          "metadata": {},
          "execution_count": 78
        }
      ]
    },
    {
      "cell_type": "code",
      "source": [
        "# Find the log\n",
        "tf.math.log(tf.cast(t6,dtype=tf.float32)).numpy() # in case the dtype is not in the list"
      ],
      "metadata": {
        "colab": {
          "base_uri": "https://localhost:8080/"
        },
        "id": "MqeyNrYNNevR",
        "outputId": "372885cd-83d3-42a5-af4b-46d4871ffd00"
      },
      "execution_count": null,
      "outputs": [
        {
          "output_type": "execute_result",
          "data": {
            "text/plain": [
              "array([0.       , 0.6931472, 1.0986123, 1.3862944, 1.609438 , 1.7917595,\n",
              "       1.9459102, 2.0794415, 2.1972246], dtype=float32)"
            ]
          },
          "metadata": {},
          "execution_count": 79
        }
      ]
    },
    {
      "cell_type": "markdown",
      "source": [
        "## Tensors & NumPy\n",
        "TensorFlow intracts beautifully with NumPy arrays.\n",
        "\n",
        "**Note:** One of the main differences between a TensorFlow tensor & a NumPy array is that a TensorFlow tesnor can be run on a GPU or TPU (For faster numerical processing)"
      ],
      "metadata": {
        "id": "a7KrOa_SN76t"
      }
    },
    {
      "cell_type": "code",
      "source": [
        "t7 = tf.constant(np.array([3.,7.,10.]))\n",
        "t7"
      ],
      "metadata": {
        "id": "ZASLwnv_OiYv",
        "colab": {
          "base_uri": "https://localhost:8080/"
        },
        "outputId": "c993c1eb-c525-433f-89ba-3e57732e0db6"
      },
      "execution_count": null,
      "outputs": [
        {
          "output_type": "execute_result",
          "data": {
            "text/plain": [
              "<tf.Tensor: shape=(3,), dtype=float64, numpy=array([ 3.,  7., 10.])>"
            ]
          },
          "metadata": {},
          "execution_count": 80
        }
      ]
    },
    {
      "cell_type": "code",
      "source": [
        "# convert to np\n",
        "np.array(t7) , type(np.array(t7))"
      ],
      "metadata": {
        "colab": {
          "base_uri": "https://localhost:8080/"
        },
        "id": "Fiu0jMG2Unxb",
        "outputId": "64887a8b-a5cc-465c-e5ed-c58d58cdb4b2"
      },
      "execution_count": null,
      "outputs": [
        {
          "output_type": "execute_result",
          "data": {
            "text/plain": [
              "(array([ 3.,  7., 10.]), numpy.ndarray)"
            ]
          },
          "metadata": {},
          "execution_count": 81
        }
      ]
    },
    {
      "cell_type": "code",
      "source": [
        "t7_np = tf.constant(np.array([3.,7.,10.]))\n",
        "t7_tf = tf.constant([3.,7.,10.])\n",
        "t7_np.dtype , t7_tf.dtype"
      ],
      "metadata": {
        "colab": {
          "base_uri": "https://localhost:8080/"
        },
        "id": "8aEsNOd0UogL",
        "outputId": "af23a91d-c84e-4cee-b43d-c1534ff9a316"
      },
      "execution_count": null,
      "outputs": [
        {
          "output_type": "execute_result",
          "data": {
            "text/plain": [
              "(tf.float64, tf.float32)"
            ]
          },
          "metadata": {},
          "execution_count": 82
        }
      ]
    },
    {
      "cell_type": "markdown",
      "source": [
        "## Finding access to GPUs"
      ],
      "metadata": {
        "id": "2Wz6L5ftV3KU"
      }
    },
    {
      "cell_type": "code",
      "source": [
        " tf.config.list_physical_devices()"
      ],
      "metadata": {
        "id": "O7ZN_4jlhwJF",
        "colab": {
          "base_uri": "https://localhost:8080/"
        },
        "outputId": "4caa6fb1-9255-41f7-8868-9cabba1a6c68"
      },
      "execution_count": null,
      "outputs": [
        {
          "output_type": "execute_result",
          "data": {
            "text/plain": [
              "[PhysicalDevice(name='/physical_device:CPU:0', device_type='CPU')]"
            ]
          },
          "metadata": {},
          "execution_count": 83
        }
      ]
    },
    {
      "cell_type": "code",
      "source": [
        " !nvidia-smi"
      ],
      "metadata": {
        "colab": {
          "base_uri": "https://localhost:8080/"
        },
        "id": "S81NojxwiP7E",
        "outputId": "a9545c51-421d-48fe-96ce-fe494dcf8100"
      },
      "execution_count": null,
      "outputs": [
        {
          "output_type": "stream",
          "name": "stdout",
          "text": [
            "/bin/bash: line 1: nvidia-smi: command not found\n"
          ]
        }
      ]
    },
    {
      "cell_type": "code",
      "source": [],
      "metadata": {
        "id": "gwERK3UZjOIV"
      },
      "execution_count": null,
      "outputs": []
    }
  ],
  "metadata": {
    "colab": {
      "provenance": [],
      "gpuType": "T4",
      "toc_visible": true,
      "include_colab_link": true
    },
    "kernelspec": {
      "display_name": "Python 3",
      "name": "python3"
    },
    "language_info": {
      "name": "python"
    },
    "accelerator": "GPU"
  },
  "nbformat": 4,
  "nbformat_minor": 0
}